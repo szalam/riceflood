{
 "cells": [
  {
   "cell_type": "code",
   "execution_count": null,
   "id": "f90b372d",
   "metadata": {},
   "outputs": [],
   "source": [
    "# !pip install geemap"
   ]
  },
  {
   "cell_type": "markdown",
   "id": "72727aff",
   "metadata": {},
   "source": [
    "# AWD monitoring using Sentinel 1"
   ]
  },
  {
   "cell_type": "code",
   "execution_count": 1,
   "id": "153613fa",
   "metadata": {},
   "outputs": [],
   "source": [
    "import ee\n",
    "import geemap\n",
    "import datetime\n",
    "import random\n",
    "\n",
    "import pandas as pd\n",
    "import numpy as np\n",
    "import plotly.express as px\n",
    "from tqdm import tqdm"
   ]
  },
  {
   "cell_type": "code",
   "execution_count": 2,
   "id": "db9deea3",
   "metadata": {},
   "outputs": [],
   "source": [
    "ee.Initialize()"
   ]
  },
  {
   "cell_type": "markdown",
   "id": "78e52b7a",
   "metadata": {},
   "source": [
    "### 1. Create 200 location coordinates"
   ]
  },
  {
   "cell_type": "code",
   "execution_count": 3,
   "id": "1f06b72a",
   "metadata": {},
   "outputs": [],
   "source": [
    "number_of_loc = 10\n",
    "\n",
    "min_lat = 23.0\n",
    "max_lat = 24.0\n",
    "min_lon = 88.0\n",
    "max_lon = 89.0\n",
    "\n",
    "locations = []\n",
    "for i in range(number_of_loc):\n",
    "    lat = random.uniform(min_lat, max_lat)\n",
    "    lon = random.uniform(min_lon, max_lon)\n",
    "    locations.append((lat, lon))\n",
    "    \n",
    "# Convert the list of locations to Earth Engine points\n",
    "points = [ee.Geometry.Point(lon, lat) for lat, lon in locations]"
   ]
  },
  {
   "cell_type": "markdown",
   "id": "21a89044",
   "metadata": {},
   "source": [
    "### 2. Sentinel-1 VV, NDVI, Precipitation"
   ]
  },
  {
   "cell_type": "code",
   "execution_count": 4,
   "id": "62349b05",
   "metadata": {},
   "outputs": [],
   "source": [
    "# Define the start and end dates\n",
    "start_date = '2022-01-01'\n",
    "end_date = '2022-07-31'\n",
    "\n",
    "# Filter the Sentinel-1 VV dataset to the date range\n",
    "sentinel_1 = ee.ImageCollection('COPERNICUS/S1_GRD') \\\n",
    "    .filterDate(start_date, end_date) \\\n",
    "    .filter(ee.Filter.listContains('transmitterReceiverPolarisation', 'VV')) \\\n",
    "    .filter(ee.Filter.eq('instrumentMode', 'IW'))\n",
    "\n",
    "# Filter the Sentinel-2 dataset to the date range and calculate NDVI\n",
    "sentinel_2 = ee.ImageCollection('COPERNICUS/S2') \\\n",
    "    .filterDate(start_date, end_date) \\\n",
    "    .map(lambda image: image.normalizedDifference(['B8', 'B4']).rename('NDVI'))\n",
    "\n",
    "\n",
    "# Filter the CHIRPS precipitation dataset to the date range\n",
    "precipitation = ee.ImageCollection('UCSB-CHG/CHIRPS/PENTAD') \\\n",
    "    .filterDate(start_date, end_date) \\\n",
    "    .select('precipitation')"
   ]
  },
  {
   "cell_type": "code",
   "execution_count": 5,
   "id": "708787ed",
   "metadata": {},
   "outputs": [],
   "source": [
    "# Initialize an empty list to store DataFrames for each point\n",
    "dfs = []\n",
    "\n",
    "# Loop through all points and extract Sentinel-1 VV data, NDVI, and precipitation\n",
    "for i, point in enumerate(points):\n",
    "    # Extract Sentinel-1 VV values\n",
    "    vv_values = sentinel_1.getRegion(point, 10).getInfo()\n",
    "    \n",
    "    # Extract NDVI values\n",
    "    ndvi_values = sentinel_2.getRegion(point, 10).getInfo()\n",
    "    \n",
    "    # Extract precipitation values\n",
    "    precipitation_values = precipitation.getRegion(point, 10).getInfo()\n",
    "    \n",
    "    # Convert the time series to a Pandas DataFrame for the current point\n",
    "    df_vv = pd.DataFrame(vv_values[1:], columns=vv_values[0])\n",
    "    df_ndvi = pd.DataFrame(ndvi_values[1:], columns=ndvi_values[0])\n",
    "    df_precipitation = pd.DataFrame(precipitation_values[1:], columns=precipitation_values[0])\n",
    "    \n",
    "    # Filter out rows with None values in the 'time' column\n",
    "    df_vv = df_vv[df_vv['time'].notna()]\n",
    "    df_ndvi = df_ndvi[df_ndvi['time'].notna()]\n",
    "    df_precipitation = df_precipitation[df_precipitation['time'].notna()]\n",
    "    \n",
    "    # Convert 'time' columns to int64 data type\n",
    "    df_vv['time'] = df_vv['time'].astype('int64')\n",
    "    df_ndvi['time'] = df_ndvi['time'].astype('int64')\n",
    "    df_precipitation['time'] = df_precipitation['time'].astype('int64')\n",
    "    \n",
    "    # Merge DataFrames based on 'time' column\n",
    "    df_merged = pd.merge(df_vv, df_ndvi, on='time', how='outer', suffixes=('_vv', '_ndvi'))\n",
    "    df_merged = pd.merge(df_merged, df_precipitation, on='time', how='outer')\n",
    "    \n",
    "    # Convert time column to datetime and create 'date' column\n",
    "    df_merged['time'] = pd.to_datetime(df_merged['time'], unit='ms')\n",
    "    df_merged['date'] = df_merged['time'].dt.date\n",
    "    \n",
    "    # Convert data columns to float\n",
    "    df_merged['VV'] = df_merged['VV'].astype(float)\n",
    "    df_merged['NDVI'] = df_merged['NDVI'].astype(float)\n",
    "    df_merged['precipitation'] = df_merged['precipitation'].astype(float)\n",
    "    \n",
    "    # Add the point index as a new column\n",
    "    df_merged['point_index'] = i\n",
    "    \n",
    "    # Append the current point's DataFrame to the list\n",
    "    dfs.append(df_merged)\n",
    "\n",
    "# Concatenate all DataFrames in the list to create the overall DataFrame\n",
    "all_df = pd.concat(dfs)\n",
    "\n",
    "# Calculate the mean VV, NDVI, and precipitation value for each date and point_index\n",
    "df_mean = all_df.groupby(['date', 'point_index']).mean().reset_index()\n",
    "\n",
    "# Optionally, you can pivot the DataFrame to have one column per point_index for each variable\n",
    "df_mean_pivot = df_mean.pivot_table(index='date', columns='point_index', values=['VV', 'NDVI', 'precipitation'])\n"
   ]
  },
  {
   "cell_type": "code",
   "execution_count": 6,
   "id": "9d9b7dc8",
   "metadata": {},
   "outputs": [
    {
     "data": {
      "text/html": [
       "<div>\n",
       "<style scoped>\n",
       "    .dataframe tbody tr th:only-of-type {\n",
       "        vertical-align: middle;\n",
       "    }\n",
       "\n",
       "    .dataframe tbody tr th {\n",
       "        vertical-align: top;\n",
       "    }\n",
       "\n",
       "    .dataframe thead th {\n",
       "        text-align: right;\n",
       "    }\n",
       "</style>\n",
       "<table border=\"1\" class=\"dataframe\">\n",
       "  <thead>\n",
       "    <tr style=\"text-align: right;\">\n",
       "      <th></th>\n",
       "      <th>VV</th>\n",
       "      <th>precipitation</th>\n",
       "    </tr>\n",
       "    <tr>\n",
       "      <th>date</th>\n",
       "      <th></th>\n",
       "      <th></th>\n",
       "    </tr>\n",
       "  </thead>\n",
       "  <tbody>\n",
       "    <tr>\n",
       "      <th>2022-01-01</th>\n",
       "      <td>NaN</td>\n",
       "      <td>1.854668</td>\n",
       "    </tr>\n",
       "    <tr>\n",
       "      <th>2022-01-01</th>\n",
       "      <td>NaN</td>\n",
       "      <td>1.690550</td>\n",
       "    </tr>\n",
       "  </tbody>\n",
       "</table>\n",
       "</div>"
      ],
      "text/plain": [
       "            VV  precipitation\n",
       "date                         \n",
       "2022-01-01 NaN       1.854668\n",
       "2022-01-01 NaN       1.690550"
      ]
     },
     "execution_count": 6,
     "metadata": {},
     "output_type": "execute_result"
    }
   ],
   "source": [
    "df_mean_b = df_mean[['date','VV','precipitation']]\n",
    "# Set 'date' as the index of the DataFrame (if it's not already the index)\n",
    "df_mean_b = df_mean_b.set_index('date')\n",
    "df_mean_b.head(2)"
   ]
  },
  {
   "cell_type": "code",
   "execution_count": 7,
   "id": "b1e75fed",
   "metadata": {},
   "outputs": [
    {
     "data": {
      "image/png": "[encoded data removed]",
      "text/plain": [
       "<Figure size 1200x400 with 2 Axes>"
      ]
     },
     "metadata": {},
     "output_type": "display_data"
    }
   ],
   "source": [
    "import matplotlib.pyplot as plt\n",
    "\n",
    "# Group the DataFrame by the 'date' column and calculate the mean for each unique date\n",
    "df_mean_grouped = df_mean_b.groupby('date').mean().reset_index()\n",
    "\n",
    "# Create line plot for 'VV' column\n",
    "ax = df_mean_grouped['VV'].plot(color='blue', label='VV', figsize=(12, 4))\n",
    "\n",
    "# Create line plot for 'precipitation' column with secondary y-axis\n",
    "ax2 = df_mean_grouped['precipitation'].plot(color='green', label='Precipitation', secondary_y=True, ax=ax)\n",
    "\n",
    "# Add labels for axes\n",
    "ax.set_xlabel('Date')\n",
    "ax.set_ylabel('VV')\n",
    "ax2.set_ylabel('Precipitation')\n",
    "\n",
    "# Add title\n",
    "ax.set_title('VV and Precipitation Over Time')\n",
    "\n",
    "# Add legend\n",
    "ax.legend(loc='upper left')\n",
    "ax2.legend(loc='upper right')\n",
    "\n",
    "# Show the plot\n",
    "plt.show()\n"
   ]
  },
  {
   "cell_type": "markdown",
   "id": "63d5c5dd",
   "metadata": {},
   "source": [
    "### 3. Create water depth"
   ]
  },
  {
   "cell_type": "code",
   "execution_count": 8,
   "id": "be3620cf",
   "metadata": {
    "scrolled": false
   },
   "outputs": [],
   "source": [
    "# Generate a list of dates between the start and end dates\n",
    "date_range = pd.date_range(start_date, end_date)\n",
    "\n",
    "# Number of locations\n",
    "number_of_loc = len(points)\n",
    "\n",
    "# Define the minimum and maximum water depth\n",
    "min_depth = 0\n",
    "max_depth = 10\n",
    "\n",
    "# Initialize an empty dictionary to store water depth data\n",
    "water_depth_data = {'date': date_range}\n",
    "\n",
    "# Generate random water depths for each location and date\n",
    "for i in range(number_of_loc):\n",
    "    water_depth_data[f'location_{i}'] = np.random.uniform(min_depth, max_depth, len(date_range))\n",
    "\n",
    "# Create a DataFrame with water depth data\n",
    "df_water_depth = pd.DataFrame(water_depth_data)\n",
    "\n",
    "df_mean_pivot['date'] = df_mean_pivot.index\n"
   ]
  },
  {
   "cell_type": "code",
   "execution_count": 9,
   "id": "5ccbdcdf",
   "metadata": {},
   "outputs": [],
   "source": [
    "# Melt the df_water_depth DataFrame to unpivot the location columns\n",
    "df_water_depth_long = pd.melt(df_water_depth, id_vars=['date'], value_vars=[f'location_{i}' for i in range(number_of_loc)], var_name='point_index', value_name='water_depth')\n",
    "\n",
    "# Extract the index number from the 'point_index' column (e.g., from 'location_0' to 0)\n",
    "df_water_depth_long['point_index'] = df_water_depth_long['point_index'].str.extract('(\\d+)').astype(int)\n",
    "\n",
    "# The resulting DataFrame has columns 'date', 'water_depth', and 'point_index'\n"
   ]
  },
  {
   "cell_type": "code",
   "execution_count": 10,
   "id": "f978eab6",
   "metadata": {},
   "outputs": [
    {
     "data": {
      "text/plain": [
       "pandas.core.series.Series"
      ]
     },
     "execution_count": 10,
     "metadata": {},
     "output_type": "execute_result"
    }
   ],
   "source": [
    "type(df_water_depth_long.date)"
   ]
  },
  {
   "cell_type": "code",
   "execution_count": 11,
   "id": "35843dfc",
   "metadata": {},
   "outputs": [],
   "source": [
    "# Convert the 'date' column in both DataFrames to datetime64[ns] data type\n",
    "df_mean['date'] = pd.to_datetime(df_mean['date'])\n",
    "df_water_depth_long['date'] = pd.to_datetime(df_water_depth_long['date'])\n",
    "\n",
    "# Merge df_mean and df_water_depth_long based on 'date' and 'point_index'\n",
    "df_merged = pd.merge(df_mean, df_water_depth_long, on=['date', 'point_index'], how='inner')\n",
    "\n",
    "df_merged = df_merged[['date', 'point_index', 'VV', 'precipitation','water_depth']]"
   ]
  },
  {
   "cell_type": "code",
   "execution_count": 12,
   "id": "44c67a8f",
   "metadata": {},
   "outputs": [],
   "source": [
    "# Drop all rows containing missing values (NaN) from df_merged\n",
    "df_merged_clean = df_merged.dropna()"
   ]
  },
  {
   "cell_type": "code",
   "execution_count": 13,
   "id": "3691e272",
   "metadata": {},
   "outputs": [
    {
     "name": "stderr",
     "output_type": "stream",
     "text": [
      "/var/folders/24/0hnc07_91nndxxzhr7g6vpvm0000gq/T/ipykernel_87901/280033674.py:8: SettingWithCopyWarning: \n",
      "A value is trying to be set on a copy of a slice from a DataFrame.\n",
      "Try using .loc[row_indexer,col_indexer] = value instead\n",
      "\n",
      "See the caveats in the documentation: https://pandas.pydata.org/pandas-docs/stable/user_guide/indexing.html#returning-a-view-versus-a-copy\n",
      "  df_merged_clean['water_depth_v2'] = -(df_merged_clean['VV'] * coefficient + random_noise)\n"
     ]
    },
    {
     "data": {
      "text/html": [
       "<div>\n",
       "<style scoped>\n",
       "    .dataframe tbody tr th:only-of-type {\n",
       "        vertical-align: middle;\n",
       "    }\n",
       "\n",
       "    .dataframe tbody tr th {\n",
       "        vertical-align: top;\n",
       "    }\n",
       "\n",
       "    .dataframe thead th {\n",
       "        text-align: right;\n",
       "    }\n",
       "</style>\n",
       "<table border=\"1\" class=\"dataframe\">\n",
       "  <thead>\n",
       "    <tr style=\"text-align: right;\">\n",
       "      <th></th>\n",
       "      <th>date</th>\n",
       "      <th>point_index</th>\n",
       "      <th>VV</th>\n",
       "      <th>precipitation</th>\n",
       "      <th>water_depth</th>\n",
       "      <th>water_depth_v2</th>\n",
       "    </tr>\n",
       "  </thead>\n",
       "  <tbody>\n",
       "    <tr>\n",
       "      <th>10</th>\n",
       "      <td>2022-01-06</td>\n",
       "      <td>0</td>\n",
       "      <td>-10.326902</td>\n",
       "      <td>2.042082</td>\n",
       "      <td>9.456968</td>\n",
       "      <td>5.693072</td>\n",
       "    </tr>\n",
       "    <tr>\n",
       "      <th>12</th>\n",
       "      <td>2022-01-06</td>\n",
       "      <td>2</td>\n",
       "      <td>-5.705063</td>\n",
       "      <td>1.730395</td>\n",
       "      <td>2.612561</td>\n",
       "      <td>2.001675</td>\n",
       "    </tr>\n",
       "  </tbody>\n",
       "</table>\n",
       "</div>"
      ],
      "text/plain": [
       "         date  point_index         VV  precipitation  water_depth  \\\n",
       "10 2022-01-06            0 -10.326902       2.042082     9.456968   \n",
       "12 2022-01-06            2  -5.705063       1.730395     2.612561   \n",
       "\n",
       "    water_depth_v2  \n",
       "10        5.693072  \n",
       "12        2.001675  "
      ]
     },
     "execution_count": 13,
     "metadata": {},
     "output_type": "execute_result"
    }
   ],
   "source": [
    "coefficient = 0.5\n",
    "noise_amplitude = 1\n",
    "\n",
    "# Generate random noise\n",
    "random_noise = np.random.uniform(-noise_amplitude, noise_amplitude, len(df_merged_clean))\n",
    "\n",
    "# Create the water_depth_v2 column by multiplying the VV column by the coefficient and adding random noise\n",
    "df_merged_clean['water_depth_v2'] = -(df_merged_clean['VV'] * coefficient + random_noise)\n",
    "\n",
    "df_merged_clean.head(2)"
   ]
  },
  {
   "cell_type": "code",
   "execution_count": 14,
   "id": "6f9b708d",
   "metadata": {},
   "outputs": [],
   "source": [
    "import pandas as pd\n",
    "from sklearn.model_selection import train_test_split\n",
    "from sklearn.linear_model import LinearRegression\n",
    "from sklearn.metrics import mean_squared_error, r2_score\n"
   ]
  },
  {
   "cell_type": "code",
   "execution_count": 15,
   "id": "de2dcf99",
   "metadata": {},
   "outputs": [],
   "source": [
    "import matplotlib.pyplot as plt"
   ]
  },
  {
   "cell_type": "code",
   "execution_count": 17,
   "id": "e7d1abd8",
   "metadata": {},
   "outputs": [
    {
     "name": "stdout",
     "output_type": "stream",
     "text": [
      "Mean Squared Error (MSE): 0.30387914742463334\n",
      "R-squared (R2): 0.8439547320884466\n"
     ]
    },
    {
     "data": {
      "image/png": "[encoded data removed]",
      "text/plain": [
       "<Figure size 640x480 with 1 Axes>"
      ]
     },
     "metadata": {},
     "output_type": "display_data"
    }
   ],
   "source": [
    "# Select features (VV and precipitation) and label (water_depth_v2)\n",
    "features = df_merged_clean[['VV', 'precipitation']]\n",
    "label = df_merged_clean['water_depth_v2']\n",
    "\n",
    "# Split the data into training and testing sets (70% training, 30% testing)\n",
    "X_train, X_test, y_train, y_test = train_test_split(features, label, test_size=0.3, random_state=42)\n",
    "\n",
    "# Initialize the linear regression model\n",
    "model = LinearRegression()\n",
    "\n",
    "# Train the model on the training data\n",
    "model.fit(X_train, y_train)\n",
    "\n",
    "# Make predictions on the testing data\n",
    "y_pred = model.predict(X_test)\n",
    "\n",
    "# Evaluate the model\n",
    "mse = mean_squared_error(y_test, y_pred)\n",
    "r2 = r2_score(y_test, y_pred)\n",
    "\n",
    "print(\"Mean Squared Error (MSE):\", mse)\n",
    "print(\"R-squared (R2):\", r2)\n",
    "\n",
    "# Create a scatter plot of true vs. predicted water depth values\n",
    "plt.scatter(y_test, y_pred, label='Predicted vs. True Water Depth')\n",
    "plt.xlabel('True Water Depth')\n",
    "plt.ylabel('Predicted Water Depth')\n",
    "\n",
    "# Plot a diagonal line representing a perfect match\n",
    "plt.plot([min(y_test), max(y_test)], [min(y_test), max(y_test)], color='red', linestyle='--', label='Perfect Match')\n",
    "\n",
    "# Add a legend\n",
    "plt.legend()\n",
    "\n",
    "# Show the plot\n",
    "plt.show()"
   ]
  },
  {
   "cell_type": "code",
   "execution_count": 17,
   "id": "7909d09f",
   "metadata": {},
   "outputs": [
    {
     "data": {
      "text/html": [
       "<div>\n",
       "<style scoped>\n",
       "    .dataframe tbody tr th:only-of-type {\n",
       "        vertical-align: middle;\n",
       "    }\n",
       "\n",
       "    .dataframe tbody tr th {\n",
       "        vertical-align: top;\n",
       "    }\n",
       "\n",
       "    .dataframe thead th {\n",
       "        text-align: right;\n",
       "    }\n",
       "</style>\n",
       "<table border=\"1\" class=\"dataframe\">\n",
       "  <thead>\n",
       "    <tr style=\"text-align: right;\">\n",
       "      <th></th>\n",
       "      <th>date</th>\n",
       "      <th>point_index</th>\n",
       "      <th>VV</th>\n",
       "      <th>precipitation</th>\n",
       "      <th>water_depth</th>\n",
       "      <th>water_depth_v2</th>\n",
       "    </tr>\n",
       "  </thead>\n",
       "  <tbody>\n",
       "    <tr>\n",
       "      <th>14</th>\n",
       "      <td>2022-01-06</td>\n",
       "      <td>4</td>\n",
       "      <td>-11.167046</td>\n",
       "      <td>1.758492</td>\n",
       "      <td>6.932732</td>\n",
       "      <td>5.607797</td>\n",
       "    </tr>\n",
       "    <tr>\n",
       "      <th>15</th>\n",
       "      <td>2022-01-06</td>\n",
       "      <td>5</td>\n",
       "      <td>-8.810038</td>\n",
       "      <td>1.969303</td>\n",
       "      <td>7.191575</td>\n",
       "      <td>5.309541</td>\n",
       "    </tr>\n",
       "    <tr>\n",
       "      <th>17</th>\n",
       "      <td>2022-01-06</td>\n",
       "      <td>7</td>\n",
       "      <td>-6.899217</td>\n",
       "      <td>2.159771</td>\n",
       "      <td>1.579563</td>\n",
       "      <td>4.051624</td>\n",
       "    </tr>\n",
       "    <tr>\n",
       "      <th>63</th>\n",
       "      <td>2022-01-21</td>\n",
       "      <td>0</td>\n",
       "      <td>-10.895509</td>\n",
       "      <td>4.501258</td>\n",
       "      <td>7.851005</td>\n",
       "      <td>5.878712</td>\n",
       "    </tr>\n",
       "    <tr>\n",
       "      <th>64</th>\n",
       "      <td>2022-01-21</td>\n",
       "      <td>1</td>\n",
       "      <td>-6.677908</td>\n",
       "      <td>5.431261</td>\n",
       "      <td>8.348422</td>\n",
       "      <td>3.243856</td>\n",
       "    </tr>\n",
       "    <tr>\n",
       "      <th>...</th>\n",
       "      <td>...</td>\n",
       "      <td>...</td>\n",
       "      <td>...</td>\n",
       "      <td>...</td>\n",
       "      <td>...</td>\n",
       "      <td>...</td>\n",
       "    </tr>\n",
       "    <tr>\n",
       "      <th>659</th>\n",
       "      <td>2022-07-11</td>\n",
       "      <td>5</td>\n",
       "      <td>-7.344484</td>\n",
       "      <td>10.385734</td>\n",
       "      <td>8.304495</td>\n",
       "      <td>3.510275</td>\n",
       "    </tr>\n",
       "    <tr>\n",
       "      <th>660</th>\n",
       "      <td>2022-07-11</td>\n",
       "      <td>6</td>\n",
       "      <td>-8.427009</td>\n",
       "      <td>13.631693</td>\n",
       "      <td>8.298321</td>\n",
       "      <td>3.481528</td>\n",
       "    </tr>\n",
       "    <tr>\n",
       "      <th>661</th>\n",
       "      <td>2022-07-11</td>\n",
       "      <td>7</td>\n",
       "      <td>-9.453840</td>\n",
       "      <td>8.887122</td>\n",
       "      <td>0.384201</td>\n",
       "      <td>3.888510</td>\n",
       "    </tr>\n",
       "    <tr>\n",
       "      <th>662</th>\n",
       "      <td>2022-07-11</td>\n",
       "      <td>8</td>\n",
       "      <td>-8.854634</td>\n",
       "      <td>12.964581</td>\n",
       "      <td>9.055480</td>\n",
       "      <td>4.555660</td>\n",
       "    </tr>\n",
       "    <tr>\n",
       "      <th>663</th>\n",
       "      <td>2022-07-11</td>\n",
       "      <td>9</td>\n",
       "      <td>-5.696705</td>\n",
       "      <td>6.159094</td>\n",
       "      <td>6.766881</td>\n",
       "      <td>2.075133</td>\n",
       "    </tr>\n",
       "  </tbody>\n",
       "</table>\n",
       "<p>82 rows × 6 columns</p>\n",
       "</div>"
      ],
      "text/plain": [
       "          date  point_index         VV  precipitation  water_depth  \\\n",
       "14  2022-01-06            4 -11.167046       1.758492     6.932732   \n",
       "15  2022-01-06            5  -8.810038       1.969303     7.191575   \n",
       "17  2022-01-06            7  -6.899217       2.159771     1.579563   \n",
       "63  2022-01-21            0 -10.895509       4.501258     7.851005   \n",
       "64  2022-01-21            1  -6.677908       5.431261     8.348422   \n",
       "..         ...          ...        ...            ...          ...   \n",
       "659 2022-07-11            5  -7.344484      10.385734     8.304495   \n",
       "660 2022-07-11            6  -8.427009      13.631693     8.298321   \n",
       "661 2022-07-11            7  -9.453840       8.887122     0.384201   \n",
       "662 2022-07-11            8  -8.854634      12.964581     9.055480   \n",
       "663 2022-07-11            9  -5.696705       6.159094     6.766881   \n",
       "\n",
       "     water_depth_v2  \n",
       "14         5.607797  \n",
       "15         5.309541  \n",
       "17         4.051624  \n",
       "63         5.878712  \n",
       "64         3.243856  \n",
       "..              ...  \n",
       "659        3.510275  \n",
       "660        3.481528  \n",
       "661        3.888510  \n",
       "662        4.555660  \n",
       "663        2.075133  \n",
       "\n",
       "[82 rows x 6 columns]"
      ]
     },
     "execution_count": 17,
     "metadata": {},
     "output_type": "execute_result"
    }
   ],
   "source": [
    "df_merged_clean"
   ]
  },
  {
   "cell_type": "code",
   "execution_count": 18,
   "id": "d5d06dd4",
   "metadata": {},
   "outputs": [],
   "source": [
    "from scipy.interpolate import griddata\n",
    "geometry = ee.Geometry.Polygon([\n",
    "    [88.45, 23.65],\n",
    "    [88.46, 23.65],\n",
    "    [88.46, 23.66],\n",
    "    [88.45, 23.66]\n",
    "])"
   ]
  },
  {
   "cell_type": "code",
   "execution_count": 27,
   "id": "a086a696",
   "metadata": {},
   "outputs": [],
   "source": [
    "m = geemap.Map()\n",
    "\n",
    "imgVV = ee.ImageCollection('COPERNICUS/S1_GRD') \\\n",
    "    .filter(ee.Filter.listContains('transmitterReceiverPolarisation', 'VV')) \\\n",
    "    .filter(ee.Filter.eq('instrumentMode', 'IW')) \\\n",
    "    .select('VV') \\\n",
    "    .map(lambda image: image.updateMask(image.lt(-30.0).Not().mask()))\n",
    "\n",
    "desc = imgVV.filter(ee.Filter.eq('orbitProperties_pass', 'DESCENDING'))\n",
    "asc = imgVV.filter(ee.Filter.eq('orbitProperties_pass', 'ASCENDING'))\n",
    "\n",
    "def generate_monthly_filter_dates(start_date, end_date):\n",
    "    # Generate monthly date ranges\n",
    "    date_range = pd.date_range(start_date, end_date, freq='M')\n",
    "    \n",
    "    # Generate filter dates as pairs of (start date, end date) for each month\n",
    "    filter_dates = []\n",
    "    for i, date in enumerate(date_range):\n",
    "        if i == 0:\n",
    "            start = pd.Timestamp(start_date)\n",
    "        else:\n",
    "            start = date_range[i-1] + pd.Timedelta(days=1)\n",
    "        end = date\n",
    "        filter_dates.append((start.strftime('%Y-%m-%d'), end.strftime('%Y-%m-%d')))\n",
    "    \n",
    "    # Add the remaining days in the last month\n",
    "    last_month_end = pd.Timestamp(end_date)\n",
    "    if date_range[-1] < last_month_end:\n",
    "        filter_dates.append(((date_range[-1] + pd.Timedelta(days=1)).strftime('%Y-%m-%d'), last_month_end.strftime('%Y-%m-%d')))\n",
    "    \n",
    "    return filter_dates\n",
    "\n",
    "# Generate filter dates\n",
    "filter_dates = generate_monthly_filter_dates(start_date, end_date)\n",
    "\n",
    "# Compute the mean image for each filter date (example usage)\n",
    "mean_images = [imgVV.filterDate(start_date, end_date).mean() for start_date, end_date in filter_dates]\n",
    "\n",
    "# Get the middle date of each filter date range\n",
    "middle_dates = [(datetime.datetime.strptime(start_date, '%Y-%m-%d') + datetime.timedelta(days=14)).strftime('%Y-%m-%d') for start_date, end_date in filter_dates]\n",
    "\n",
    "# Add each mean image as a layer to the map, with the middle date as the layer label\n",
    "for mean_image, middle_date in zip(mean_images, middle_dates):\n",
    "    m.addLayer(mean_image, {'min': -25, 'max': 5}, middle_date, True)\n",
    "\n",
    "f = imgVV.filterBounds(geometry).filterDate(start_date, end_date)\n",
    "\n",
    "# Put all dates in a list\n",
    "dates = f.aggregate_array(\"system:time_start\").map(lambda d: ee.Date(d))\n",
    "\n",
    "# Print a list with dates\n",
    "# print(dates.getInfo())"
   ]
  },
  {
   "cell_type": "code",
   "execution_count": 28,
   "id": "397e6452",
   "metadata": {},
   "outputs": [
    {
     "data": {
      "application/vnd.jupyter.widget-view+json": {
       "model_id": "9574ea8fedeb4126a80c091a810fa182",
       "version_major": 2,
       "version_minor": 0
      },
      "text/plain": [
       "Map(center=[23.655000016467923, 88.45500000001641], controls=(WidgetControl(options=['position', 'transparent_…"
      ]
     },
     "metadata": {},
     "output_type": "display_data"
    }
   ],
   "source": [
    "m.centerObject(geometry, zoom=15)\n",
    "m.add_basemap('HYBRID')\n",
    "m.addLayer(geometry, {'color': 'red'}, 'Polygon')\n",
    "\n",
    "m"
   ]
  },
  {
   "cell_type": "code",
   "execution_count": 29,
   "id": "03bcf10e",
   "metadata": {},
   "outputs": [
    {
     "data": {
      "application/vnd.jupyter.widget-view+json": {
       "model_id": "9574ea8fedeb4126a80c091a810fa182",
       "version_major": 2,
       "version_minor": 0
      },
      "text/plain": [
       "Map(bottom=3627042.0, center=[23.655000016467923, 88.45500000001641], controls=(WidgetControl(options=['positi…"
      ]
     },
     "metadata": {},
     "output_type": "display_data"
    }
   ],
   "source": [
    "image = imgVV.filterDate('2023-02-15', '2023-02-16').first()\n",
    "image = image.multiply(1.6)\n",
    "m.addLayer(image, {'min': -25, 'max': 5}, '2023-02-15 (x1.6)', True)\n",
    "m"
   ]
  },
  {
   "cell_type": "code",
   "execution_count": 23,
   "id": "05c07bd2",
   "metadata": {},
   "outputs": [],
   "source": [
    "import folium\n",
    "from branca.colormap import LinearColormap"
   ]
  },
  {
   "cell_type": "code",
   "execution_count": 24,
   "id": "deadef26",
   "metadata": {},
   "outputs": [
    {
     "data": {
      "application/vnd.jupyter.widget-view+json": {
       "model_id": "f7d70abab2214da1a900f5e62ec947c4",
       "version_major": 2,
       "version_minor": 0
      },
      "text/plain": [
       "Map(center=[23.655000016467923, 88.45500000001641], controls=(WidgetControl(options=['position', 'transparent_…"
      ]
     },
     "metadata": {},
     "output_type": "display_data"
    }
   ],
   "source": [
    "# Your existing code to create the imgVV ImageCollection and filter by date\n",
    "\n",
    "# Filter the imgVV ImageCollection by the geometry\n",
    "imgVV = imgVV.filterBounds(geometry)\n",
    "\n",
    "# Get the most recent VV image from the filtered ImageCollection\n",
    "recent_vv_image = imgVV.sort('system:time_start', False).first()\n",
    "\n",
    "# Function to apply the linear regression model to an image\n",
    "def apply_regression(image):\n",
    "    return image.multiply(model.coef_[0]).add(model.intercept_).rename('predicted_water_depth')\n",
    "\n",
    "# Apply the regression model to the recent VV image\n",
    "predicted_water_depth_image = apply_regression(recent_vv_image)\n",
    "\n",
    "# Define visualization parameters for the predicted water depth\n",
    "predicted_water_depth_vis_params = {\n",
    "    'min': 0,\n",
    "    'max': 10,\n",
    "    'palette': ['blue', 'aqua', 'green', 'yellow', 'orange', 'red']\n",
    "}\n",
    "\n",
    "# Create a Map\n",
    "m = geemap.Map()\n",
    "\n",
    "# Add the predicted water depth image to the map\n",
    "m.addLayer(predicted_water_depth_image, predicted_water_depth_vis_params, 'Predicted Water Depth')\n",
    "\n",
    "# Set the map view to the region of interest\n",
    "m.add_basemap('HYBRID')\n",
    "m.centerObject(geometry, zoom=15)\n",
    "m.addLayer(geometry, {'color': 'red'}, 'Polygon')\n",
    "# Display the map\n",
    "m\n"
   ]
  },
  {
   "cell_type": "code",
   "execution_count": null,
   "id": "fb02e9e7",
   "metadata": {},
   "outputs": [],
   "source": []
  }
 ],
 "metadata": {
  "kernelspec": {
   "display_name": "Python 3 (ipykernel)",
   "language": "python",
   "name": "python3"
  },
  "language_info": {
   "codemirror_mode": {
    "name": "ipython",
    "version": 3
   },
   "file_extension": ".py",
   "mimetype": "text/x-python",
   "name": "python",
   "nbconvert_exporter": "python",
   "pygments_lexer": "ipython3",
   "version": "3.9.13"
  }
 },
 "nbformat": 4,
 "nbformat_minor": 5
}
