{
 "cells": [
  {
   "cell_type": "code",
   "execution_count": 17,
   "id": "88c3a4c2",
   "metadata": {},
   "outputs": [],
   "source": [
    "import ee\n",
    "import geemap\n",
    "import datetime\n",
    "import matplotlib.pyplot as plt\n",
    "import pandas as pd\n",
    "import numpy as np\n",
    "import plotly.express as px"
   ]
  },
  {
   "cell_type": "code",
   "execution_count": 8,
   "id": "2f7e12ad",
   "metadata": {},
   "outputs": [
    {
     "data": {
      "text/html": [
       "<p>To authorize access needed by Earth Engine, open the following\n",
       "        URL in a web browser and follow the instructions:</p>\n",
       "        <p><a href=https://code.earthengine.google.com/client-auth?scopes=https%3A//www.googleapis.com/auth/earthengine%20https%3A//www.googleapis.com/auth/devstorage.full_control&request_id=2VrZg31E_LTJtw3QrKt2zHQsGYr_CFQLmGyCqprQW0U&tc=yjx5-0Shanrjc0gZmNiRGEfjcxrP0Bm9L8Kiw4yjWmQ&cc=9ZPSSEDaRIcFdg5bnHGokhn7hJbL0o4FNT5TffXbuGk>https://code.earthengine.google.com/client-auth?scopes=https%3A//www.googleapis.com/auth/earthengine%20https%3A//www.googleapis.com/auth/devstorage.full_control&request_id=2VrZg31E_LTJtw3QrKt2zHQsGYr_CFQLmGyCqprQW0U&tc=yjx5-0Shanrjc0gZmNiRGEfjcxrP0Bm9L8Kiw4yjWmQ&cc=9ZPSSEDaRIcFdg5bnHGokhn7hJbL0o4FNT5TffXbuGk</a></p>\n",
       "        <p>The authorization workflow will generate a code, which you should paste in the box below.</p>\n",
       "        "
      ],
      "text/plain": [
       "<IPython.core.display.HTML object>"
      ]
     },
     "metadata": {},
     "output_type": "display_data"
    },
    {
     "name": "stdout",
     "output_type": "stream",
     "text": [
      "Enter verification code: 4/1AbUR2VM7bitc3dfEE_BMrg3rvT8_yXhooJyoc8kCOKUxhO_0Kt_jZqXA1d8\n",
      "\n",
      "Successfully saved authorization token.\n"
     ]
    }
   ],
   "source": [
    "ee.Authenticate()"
   ]
  },
  {
   "cell_type": "code",
   "execution_count": 9,
   "id": "4d1dd4b3",
   "metadata": {},
   "outputs": [],
   "source": [
    "ee.Initialize()"
   ]
  },
  {
   "cell_type": "code",
   "execution_count": 10,
   "id": "e8aef411",
   "metadata": {},
   "outputs": [],
   "source": [
    "# Area of interest. Defined by a polygon\n",
    "\n",
    "# AWD in day 3 site. apply water every 6 days\n",
    "geometry = ee.Geometry.Polygon([\n",
    "  [89.00239529326589, 23.363047351642273],\n",
    "  [89.00177838519247, 23.363022728677635],\n",
    "  [89.001874944717, 23.362623836013544],\n",
    "  [89.00238456442983, 23.362658308266433],\n",
    "  [89.00239529326589, 23.363047351642273]\n",
    "]);\n",
    "\n",
    "# Define start and end dates\n",
    "startDate = '2021-01-01'\n",
    "endDate = '2022-03-30'\n"
   ]
  },
  {
   "cell_type": "code",
   "execution_count": 11,
   "id": "658b3fc3",
   "metadata": {},
   "outputs": [],
   "source": []
  },
  {
   "cell_type": "code",
   "execution_count": 12,
   "id": "5442a310",
   "metadata": {},
   "outputs": [],
   "source": [
    "m = geemap.Map()\n",
    "\n",
    "imgVV = ee.ImageCollection('COPERNICUS/S1_GRD') \\\n",
    "    .filter(ee.Filter.listContains('transmitterReceiverPolarisation', 'VV')) \\\n",
    "    .filter(ee.Filter.eq('instrumentMode', 'IW')) \\\n",
    "    .select('VV') \\\n",
    "    .map(lambda image: image.updateMask(image.lt(-30.0).Not().mask()))\n",
    "\n",
    "desc = imgVV.filter(ee.Filter.eq('orbitProperties_pass', 'DESCENDING'))\n",
    "asc = imgVV.filter(ee.Filter.eq('orbitProperties_pass', 'ASCENDING'))\n",
    "\n",
    "# Define a list of filter dates\n",
    "filter_dates = [('2023-01-01', '2023-01-30'),\n",
    "                 ('2023-02-01', '2023-02-28'),\n",
    "                 ('2023-03-01', '2023-03-03')]\n",
    "\n",
    "# Compute the mean image for each filter date\n",
    "mean_images = [imgVV.filterDate(start_date, end_date).mean() for start_date, end_date in filter_dates]\n",
    "\n",
    "# Get the middle date of each filter date range\n",
    "middle_dates = [(datetime.datetime.strptime(start_date, '%Y-%m-%d') + datetime.timedelta(days=14)).strftime('%Y-%m-%d') for start_date, end_date in filter_dates]\n",
    "\n",
    "# Add each mean image as a layer to the map, with the middle date as the layer label\n",
    "for mean_image, middle_date in zip(mean_images, middle_dates):\n",
    "    m.addLayer(mean_image, {'min': -25, 'max': 5}, middle_date, True)\n",
    "\n",
    "f = imgVV.filterBounds(geometry).filterDate(startDate, endDate)\n",
    "\n",
    "# Put all dates in a list\n",
    "dates = f.aggregate_array(\"system:time_start\").map(lambda d: ee.Date(d))\n",
    "\n",
    "# Print a list with dates\n",
    "# print(dates.getInfo())"
   ]
  },
  {
   "cell_type": "code",
   "execution_count": 13,
   "id": "b02efabb",
   "metadata": {},
   "outputs": [
    {
     "data": {
      "application/vnd.jupyter.widget-view+json": {
       "model_id": "9b15ea414ff54885aca8892cb1169e65",
       "version_major": 2,
       "version_minor": 0
      },
      "text/plain": [
       "Map(center=[23.362844116577374, 89.00210579267959], controls=(WidgetControl(options=['position', 'transparent_…"
      ]
     },
     "metadata": {},
     "output_type": "display_data"
    }
   ],
   "source": [
    "m.add_basemap('HYBRID')\n",
    "m.centerObject(geometry, zoom=16)\n",
    "m.addLayer(geometry, {'color': 'red'}, 'Polygon')\n",
    "\n",
    "m"
   ]
  },
  {
   "cell_type": "code",
   "execution_count": 14,
   "id": "9ebb32d6",
   "metadata": {},
   "outputs": [
    {
     "data": {
      "application/vnd.jupyter.widget-view+json": {
       "model_id": "680a26032f1d46628963b048ea1cb522",
       "version_major": 2,
       "version_minor": 0
      },
      "text/plain": [
       "Map(center=[23.362844116577374, 89.00210579267959], controls=(WidgetControl(options=['position', 'transparent_…"
      ]
     },
     "metadata": {},
     "output_type": "display_data"
    }
   ],
   "source": [
    "# Information of geometry to zoom\n",
    "centroid = geometry.centroid().getInfo()['coordinates']\n",
    "center = [centroid[1], centroid[0]]\n",
    "\n",
    "# Create a map centered on the polygon geometry\n",
    "Map = geemap.Map(center=center, zoom=16)\n",
    "Map.add_basemap('HYBRID')\n",
    "Map.add_ee_layer(geometry, {'color': 'red'}, 'Polygon geometry')\n",
    "\n",
    "# Filter the Sentinel-1 VV dataset to the geometry and date range\n",
    "sentinel_1 = ee.ImageCollection('COPERNICUS/S1_GRD') \\\n",
    "    .filterBounds(geometry) \\\n",
    "    .filterDate('2021-01-01', '2022-12-31') \\\n",
    "    .filter(ee.Filter.listContains('transmitterReceiverPolarisation', 'VV')) \\\n",
    "    .filter(ee.Filter.eq('instrumentMode', 'IW'))\n",
    "\n",
    "# Get the median image from the Sentinel-1 VV dataset\n",
    "median_image = sentinel_1.median()\n",
    "\n",
    "Map.add_ee_layer(median_image.select('VV'), {'min': -25, 'max': 5, 'palette': 'gray'}, 'Median Image')\n",
    "\n",
    "# Display the map\n",
    "Map"
   ]
  },
  {
   "cell_type": "code",
   "execution_count": 18,
   "id": "7c061e08",
   "metadata": {},
   "outputs": [
    {
     "data": {
      "image/png": "[encoded data removed]",
      "text/plain": [
       "<Figure size 1000x300 with 1 Axes>"
      ]
     },
     "metadata": {},
     "output_type": "display_data"
    }
   ],
   "source": [
    "# Define start and end dates\n",
    "start_date = '2022-01-01'\n",
    "end_date = '2022-03-30'\n",
    "\n",
    "# Filter the Sentinel-1 VV dataset to the geometry and date range\n",
    "sentinel_1 = ee.ImageCollection('COPERNICUS/S1_GRD') \\\n",
    "    .filterBounds(geometry) \\\n",
    "    .filterDate(start_date, end_date) \\\n",
    "    .filter(ee.Filter.listContains('transmitterReceiverPolarisation', 'VV')) \\\n",
    "    .filter(ee.Filter.eq('instrumentMode', 'IW'))\n",
    "    \n",
    "# Get the time series of VV values within the polygon\n",
    "values = sentinel_1.filterBounds(geometry).getRegion(geometry, 10).getInfo()\n",
    "\n",
    "# # Convert the time series to a pandas dataframe\n",
    "df = pd.DataFrame(values[1:], columns=values[0])\n",
    "df['time'] = pd.to_datetime(df['time'], unit='ms')\n",
    "df['date'] = df['time'].dt.date\n",
    "# df = df.set_index('date')\n",
    "df['VV'] = df['VV'].astype(float)\n",
    "\n",
    "# Calculate the mean VV value for each date\n",
    "df_vv_mean = df.groupby('date').mean()\n",
    "\n",
    "# Plot the mean VV value for each date with a figure dimension of 12 by 4\n",
    "plt.figure(figsize=(10, 3))\n",
    "df_vv_mean['VV'].plot(linewidth=0.8)\n",
    "plt.scatter(df_vv_mean.index, df_vv_mean['VV'], s=10)\n",
    "plt.xlabel('Date')\n",
    "plt.ylabel('VV values')\n",
    "plt.title('Mean VV value for each date')\n",
    "plt.show()\n"
   ]
  },
  {
   "cell_type": "code",
   "execution_count": 19,
   "id": "3ef99ac5",
   "metadata": {},
   "outputs": [
    {
     "data": {
      "image/png": "[encoded data removed]",
      "text/plain": [
       "<Figure size 800x300 with 1 Axes>"
      ]
     },
     "metadata": {},
     "output_type": "display_data"
    }
   ],
   "source": [
    "df['flood'] = np.where(df['VV'] < -13, 1, 0)\n",
    "\n",
    "# Plot the time series of the flood column\n",
    "plt.figure(figsize=(8, 3))\n",
    "df.groupby('date').mean()['flood'].plot(linewidth=0.5, color='blue')\n",
    "plt.xlabel('Date')\n",
    "plt.ylabel('Flood (1) / Not-Flood (0)')\n",
    "plt.title('Time series of flood in the area')\n",
    "plt.grid(True, which='both', axis='both')\n",
    "plt.legend(['Flood'])\n",
    "plt.show()\n"
   ]
  },
  {
   "cell_type": "code",
   "execution_count": null,
   "id": "429db0aa",
   "metadata": {},
   "outputs": [],
   "source": []
  },
  {
   "cell_type": "code",
   "execution_count": null,
   "id": "9de35510",
   "metadata": {},
   "outputs": [],
   "source": []
  },
  {
   "cell_type": "code",
   "execution_count": null,
   "id": "35fc6f2e",
   "metadata": {},
   "outputs": [],
   "source": []
  },
  {
   "cell_type": "code",
   "execution_count": null,
   "id": "b5b0da43",
   "metadata": {},
   "outputs": [],
   "source": []
  },
  {
   "cell_type": "markdown",
   "id": "2e93f3d6",
   "metadata": {},
   "source": [
    "## Flood map generation attempt"
   ]
  },
  {
   "cell_type": "markdown",
   "id": "4effff90",
   "metadata": {},
   "source": [
    "#### (1) Get Sentinel data for dates in June-August in the area of interest. VV values below -11 consider as flood:"
   ]
  },
  {
   "cell_type": "code",
   "execution_count": 71,
   "id": "977fea29",
   "metadata": {},
   "outputs": [],
   "source": [
    "# Define start and end dates for June-August\n",
    "start_date = '2021-06-01'\n",
    "end_date = '2021-08-31'\n",
    "\n",
    "# Filter the Sentinel-1 VV dataset to the geometry and date range\n",
    "sentinel_1 = ee.ImageCollection('COPERNICUS/S1_GRD') \\\n",
    "    .filterBounds(geometry) \\\n",
    "    .filterDate(start_date, end_date) \\\n",
    "    .filter(ee.Filter.listContains('transmitterReceiverPolarisation', 'VV')) \\\n",
    "    .filter(ee.Filter.eq('instrumentMode', 'IW'))\n",
    "\n",
    "# Get the time series of VV values within the polygon\n",
    "values = sentinel_1.filterBounds(geometry).getRegion(geometry, 10).getInfo()\n",
    "\n",
    "# Convert the time series to a pandas dataframe\n",
    "df = pd.DataFrame(values[1:], columns=values[0])\n",
    "df['time'] = pd.to_datetime(df['time'], unit='ms')\n",
    "df['date'] = df['time'].dt.date\n",
    "df['VV'] = df['VV'].astype(float)\n",
    "\n",
    "# Define flooded cells as those with VV values less than -11\n",
    "df['flood'] = np.where(df['VV'] < -5, 1, 0)\n"
   ]
  },
  {
   "cell_type": "markdown",
   "id": "dd860be2",
   "metadata": {},
   "source": [
    "#### (2) Get precipitation values during those days for some satellite data:"
   ]
  },
  {
   "cell_type": "code",
   "execution_count": 72,
   "id": "c395d31d",
   "metadata": {},
   "outputs": [],
   "source": [
    "# Define GPM data\n",
    "gpm = ee.ImageCollection('NASA/GPM_L3/IMERG_MONTHLY_V06')\n",
    "\n",
    "# Filter the GPM dataset to the date range and location, and select 'precipitation' band\n",
    "precipitation = ee.ImageCollection('NASA/GPM_L3/IMERG_MONTHLY_V06') \\\n",
    "    .filterDate(start_date, end_date) \\\n",
    "    .filterBounds(geometry) \\\n",
    "    .select('precipitation')  # select 'precipitation' band\n",
    "\n",
    "# Get the time series of precipitation values within the polygon\n",
    "precip_values = precipitation.getRegion(geometry, 10).getInfo()\n",
    "\n",
    "# Get the time series of precipitation values within the polygon\n",
    "precip_values = precipitation.getRegion(geometry, 10).getInfo()\n",
    "\n",
    "# Convert the time series to a pandas dataframe\n",
    "df_precip = pd.DataFrame(precip_values[1:], columns=precip_values[0])\n",
    "df_precip['time'] = pd.to_datetime(df_precip['time'], unit='ms')\n",
    "df_precip['date'] = df_precip['time'].dt.date\n",
    "df_precip['precipitation'] = df_precip['precipitation'].astype(float)\n"
   ]
  },
  {
   "cell_type": "markdown",
   "id": "3db70707",
   "metadata": {},
   "source": [
    "#### (3) Develop a model to learn about flood condition during different precipitation inputs. Make sure you also learn what are the connected flooded grids:"
   ]
  },
  {
   "cell_type": "code",
   "execution_count": 73,
   "id": "29bcf4eb",
   "metadata": {},
   "outputs": [
    {
     "name": "stdout",
     "output_type": "stream",
     "text": [
      "False    50\n",
      "True     25\n",
      "Name: date, dtype: int64\n"
     ]
    }
   ],
   "source": [
    "print(df_precip['date'].isin(df[df['flood'] == 1]['date']).value_counts())\n"
   ]
  },
  {
   "cell_type": "code",
   "execution_count": 74,
   "id": "04b5b10b",
   "metadata": {},
   "outputs": [],
   "source": [
    "# Merge the flood and precipitation dataframes on the date column\n",
    "df_combined = pd.merge(df, df_precip, on='date', how='inner')\n"
   ]
  },
  {
   "cell_type": "code",
   "execution_count": 76,
   "id": "60b5f711",
   "metadata": {},
   "outputs": [
    {
     "data": {
      "text/plain": [
       "LogisticRegression()"
      ]
     },
     "execution_count": 76,
     "metadata": {},
     "output_type": "execute_result"
    }
   ],
   "source": [
    "from sklearn.linear_model import LogisticRegression\n",
    "from sklearn.model_selection import train_test_split\n",
    "\n",
    "# Define X (features) and y (target)\n",
    "X = df_combined[['VV', 'precipitation']]\n",
    "y = df_combined['flood']\n",
    "\n",
    "\n",
    "# Split the data into training and test datasets\n",
    "X_train, X_test, y_train, y_test = train_test_split(df_combined[['VV', 'precipitation']], df_combined['flood'], test_size=0.3, random_state=42)\n",
    "\n",
    "\n",
    "# Instantiate and fit the model\n",
    "model = LogisticRegression()\n",
    "model.fit(X_train, y_train)\n"
   ]
  },
  {
   "cell_type": "code",
   "execution_count": 82,
   "id": "8066fc1e",
   "metadata": {},
   "outputs": [
    {
     "name": "stdout",
     "output_type": "stream",
     "text": [
      "count    575.000000\n",
      "mean      -9.517151\n",
      "std        2.364967\n",
      "min      -15.522450\n",
      "25%      -11.159287\n",
      "50%       -9.517494\n",
      "75%       -7.824499\n",
      "max       -2.532221\n",
      "Name: VV, dtype: float64\n",
      "1    556\n",
      "0     19\n",
      "Name: flood, dtype: int64\n",
      "count    625.000000\n",
      "mean       0.451913\n",
      "std        0.000000\n",
      "min        0.451913\n",
      "25%        0.451913\n",
      "50%        0.451913\n",
      "75%        0.451913\n",
      "max        0.451913\n",
      "Name: precipitation, dtype: float64\n"
     ]
    }
   ],
   "source": [
    "print(df['VV'].describe())\n",
    "print(df['flood'].value_counts())\n",
    "print(df_combined['precipitation'].describe())"
   ]
  },
  {
   "cell_type": "code",
   "execution_count": 78,
   "id": "8cebba7b",
   "metadata": {},
   "outputs": [
    {
     "name": "stdout",
     "output_type": "stream",
     "text": [
      "Distribution of classes in training dataset:\n",
      "1    420\n",
      "0     17\n",
      "Name: flood, dtype: int64\n",
      "Distribution of classes in test dataset:\n",
      "1    180\n",
      "0      8\n",
      "Name: flood, dtype: int64\n"
     ]
    }
   ],
   "source": [
    "print(\"Distribution of classes in training dataset:\")\n",
    "print(pd.Series(y_train).value_counts())\n",
    "\n",
    "print(\"Distribution of classes in test dataset:\")\n",
    "print(pd.Series(y_test).value_counts())\n"
   ]
  },
  {
   "cell_type": "markdown",
   "id": "0c4d8ffc",
   "metadata": {},
   "source": [
    "#### (4) Now for a different precipitation input from user create a flood map:"
   ]
  },
  {
   "cell_type": "code",
   "execution_count": 84,
   "id": "c4412f65",
   "metadata": {},
   "outputs": [
    {
     "data": {
      "image/png": "[encoded data removed]",
      "text/plain": [
       "<Figure size 800x300 with 1 Axes>"
      ]
     },
     "metadata": {},
     "output_type": "display_data"
    }
   ],
   "source": [
    "# User inputs a precipitation level\n",
    "user_precip = .40\n",
    "\n",
    "# Create a new DataFrame with 'VV' values and the user's input precipitation level\n",
    "df_predict = df_combined[['VV']].copy()\n",
    "df_predict['precip'] = user_precip\n",
    "\n",
    "# Predict the flood condition for this precipitation level\n",
    "df_combined['pred_flood'] = model.predict(df_predict)\n",
    "\n",
    "# Plot the predicted flood condition\n",
    "plt.figure(figsize=(8, 3))\n",
    "df_combined.groupby('date').mean()['pred_flood'].plot(linewidth=0.5, color='blue')\n",
    "plt.xlabel('Date')\n",
    "plt.ylabel('Predicted Flood (1) / Not-Flood (0)')\n",
    "plt.title('Predicted flood condition for a precipitation level of ' + str(user_precip))\n",
    "plt.grid(True, which='both', axis='both')\n",
    "plt.legend(['Predicted Flood'])\n",
    "plt.show()\n"
   ]
  },
  {
   "cell_type": "markdown",
   "id": "394d1b80",
   "metadata": {},
   "source": [
    "### Codes related to debugging"
   ]
  },
  {
   "cell_type": "code",
   "execution_count": 29,
   "id": "d5c4d74c",
   "metadata": {},
   "outputs": [
    {
     "name": "stdout",
     "output_type": "stream",
     "text": [
      "Number of images in the original GPM dataset:  256\n",
      "Number of images in the GPM dataset for the specified date range:  3\n",
      "Number of images in the GPM dataset for the specified location:  256\n",
      "Number of images in the filtered GPM dataset:  3\n"
     ]
    }
   ],
   "source": [
    "# Count the number of images in the original GPM dataset (without date and location filters)\n",
    "count_all = ee.ImageCollection('NASA/GPM_L3/IMERG_MONTHLY_V06').size().getInfo()\n",
    "print('Number of images in the original GPM dataset: ', count_all)\n",
    "\n",
    "# Count the number of images in the GPM dataset for your specified date range\n",
    "count_date = ee.ImageCollection('NASA/GPM_L3/IMERG_MONTHLY_V06').filterDate(start_date, end_date).size().getInfo()\n",
    "print('Number of images in the GPM dataset for the specified date range: ', count_date)\n",
    "\n",
    "# Count the number of images in the GPM dataset for your specified location\n",
    "count_location = ee.ImageCollection('NASA/GPM_L3/IMERG_MONTHLY_V06').filterBounds(geometry).size().getInfo()\n",
    "print('Number of images in the GPM dataset for the specified location: ', count_location)\n",
    "\n",
    "# Count the number of images in the GPM dataset for your specified date range and location\n",
    "count_filtered = ee.ImageCollection('NASA/GPM_L3/IMERG_MONTHLY_V06').filterDate(start_date, end_date).filterBounds(geometry).size().getInfo()\n",
    "print('Number of images in the filtered GPM dataset: ', count_filtered)\n"
   ]
  },
  {
   "cell_type": "code",
   "execution_count": 30,
   "id": "eab62646",
   "metadata": {},
   "outputs": [
    {
     "name": "stdout",
     "output_type": "stream",
     "text": [
      "Band names in the first image:  ['gaugeRelativeWeighting', 'precipitation', 'precipitationQualityIndex', 'probabilityLiquidPrecipitation', 'randomError']\n"
     ]
    }
   ],
   "source": [
    "# Get the first image in the filtered ImageCollection\n",
    "first_image = ee.ImageCollection('NASA/GPM_L3/IMERG_MONTHLY_V06').filterDate(start_date, end_date).filterBounds(geometry).first()\n",
    "\n",
    "# Get the list of band names in the first image\n",
    "band_names = first_image.bandNames().getInfo()\n",
    "\n",
    "print('Band names in the first image: ', band_names)\n"
   ]
  },
  {
   "cell_type": "code",
   "execution_count": 31,
   "id": "2c3fed4d",
   "metadata": {},
   "outputs": [],
   "source": [
    "# Filter the GPM dataset to the date range and location, and select 'precipitation' band\n",
    "precipitation = ee.ImageCollection('NASA/GPM_L3/IMERG_MONTHLY_V06') \\\n",
    "    .filterDate(start_date, end_date) \\\n",
    "    .filterBounds(geometry) \\\n",
    "    .select('precipitation')  # select 'precipitation' band\n",
    "\n",
    "# Get the time series of precipitation values within the polygon\n",
    "precip_values = precipitation.getRegion(geometry, 10).getInfo()\n",
    "\n",
    "# Rest of the code...\n"
   ]
  },
  {
   "cell_type": "code",
   "execution_count": null,
   "id": "230dddab",
   "metadata": {},
   "outputs": [],
   "source": []
  }
 ],
 "metadata": {
  "kernelspec": {
   "display_name": "Python 3 (ipykernel)",
   "language": "python",
   "name": "python3"
  },
  "language_info": {
   "codemirror_mode": {
    "name": "ipython",
    "version": 3
   },
   "file_extension": ".py",
   "mimetype": "text/x-python",
   "name": "python",
   "nbconvert_exporter": "python",
   "pygments_lexer": "ipython3",
   "version": "3.9.13"
  }
 },
 "nbformat": 4,
 "nbformat_minor": 5
}
