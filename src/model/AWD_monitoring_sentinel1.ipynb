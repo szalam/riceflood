{
 "cells": [
  {
   "cell_type": "code",
   "execution_count": null,
   "id": "f90b372d",
   "metadata": {},
   "outputs": [],
   "source": [
    "# !pip install geemap"
   ]
  },
  {
   "cell_type": "markdown",
   "id": "72727aff",
   "metadata": {},
   "source": [
    "# AWD monitoring using Sentinel 1"
   ]
  },
  {
   "cell_type": "code",
   "execution_count": 1,
   "id": "153613fa",
   "metadata": {},
   "outputs": [],
   "source": [
    "import ee\n",
    "import geemap\n",
    "import datetime\n",
    "\n",
    "import pandas as pd\n",
    "import numpy as np\n",
    "import plotly.express as px"
   ]
  },
  {
   "cell_type": "code",
   "execution_count": 2,
   "id": "dbbc9b3f",
   "metadata": {},
   "outputs": [],
   "source": [
    "ee.Initialize()"
   ]
  },
  {
   "cell_type": "code",
   "execution_count": 3,
   "id": "db9deea3",
   "metadata": {},
   "outputs": [],
   "source": [
    "# geemap.update_package()"
   ]
  },
  {
   "cell_type": "markdown",
   "id": "78e52b7a",
   "metadata": {},
   "source": [
    "## 1. Spatial plot of Sentinel 1 data for the selected date range"
   ]
  },
  {
   "cell_type": "code",
   "execution_count": 4,
   "id": "1f06b72a",
   "metadata": {},
   "outputs": [],
   "source": [
    "# Area of interest. Defined by a polygon\n",
    "\n",
    "# # Define the polygon geometry\n",
    "# geometry = ee.Geometry.Polygon([[90.87974051393725, 24.027515849512838],\n",
    "#                                  [90.88031987108447, 24.027515849512838],\n",
    "#                                  [90.88031987108447, 24.027927414524406],\n",
    "#                                  [90.87974051393725, 24.027927414524406],\n",
    "#                                  [90.87974051393725, 24.027515849512838]])\n",
    "\n",
    "\n",
    "# AWD in day 3 site. apply water every 6 days\n",
    "geometry = ee.Geometry.Polygon([\n",
    "  [89.00239529326589, 23.363047351642273],\n",
    "  [89.00177838519247, 23.363022728677635],\n",
    "  [89.001874944717, 23.362623836013544],\n",
    "  [89.00238456442983, 23.362658308266433],\n",
    "  [89.00239529326589, 23.363047351642273]\n",
    "]);\n",
    "\n",
    "# # CF in day 3 site. apply water every 2 days\n",
    "# geometry = ee.Geometry.Polygon([\n",
    "#   [89.00103809550436, 23.362348057667866],\n",
    "#   [89.0011185617748, 23.362032881713567],\n",
    "#   [89.00181057170064, 23.362141223532323],\n",
    "#   [89.00177302077444, 23.362451474614677],\n",
    "#   [89.00115611270101, 23.36237268075776],\n",
    "#   [89.00103809550436, 23.362348057667866]\n",
    "# ]);"
   ]
  },
  {
   "cell_type": "code",
   "execution_count": 5,
   "id": "75fbf2cb",
   "metadata": {},
   "outputs": [],
   "source": [
    "# Define start and end dates\n",
    "startDate = '2021-01-01'\n",
    "endDate = '2022-03-30'"
   ]
  },
  {
   "cell_type": "code",
   "execution_count": 6,
   "id": "62349b05",
   "metadata": {},
   "outputs": [],
   "source": [
    "m = geemap.Map()\n",
    "\n",
    "imgVV = ee.ImageCollection('COPERNICUS/S1_GRD') \\\n",
    "    .filter(ee.Filter.listContains('transmitterReceiverPolarisation', 'VV')) \\\n",
    "    .filter(ee.Filter.eq('instrumentMode', 'IW')) \\\n",
    "    .select('VV') \\\n",
    "    .map(lambda image: image.updateMask(image.lt(-30.0).Not().mask()))\n",
    "\n",
    "desc = imgVV.filter(ee.Filter.eq('orbitProperties_pass', 'DESCENDING'))\n",
    "asc = imgVV.filter(ee.Filter.eq('orbitProperties_pass', 'ASCENDING'))\n",
    "\n",
    "# Define a list of filter dates\n",
    "filter_dates = [('2023-01-01', '2023-01-30'),\n",
    "                 ('2023-02-01', '2023-02-28'),\n",
    "                 ('2023-03-01', '2023-03-03')]\n",
    "\n",
    "# Compute the mean image for each filter date\n",
    "mean_images = [imgVV.filterDate(start_date, end_date).mean() for start_date, end_date in filter_dates]\n",
    "\n",
    "# Get the middle date of each filter date range\n",
    "middle_dates = [(datetime.datetime.strptime(start_date, '%Y-%m-%d') + datetime.timedelta(days=14)).strftime('%Y-%m-%d') for start_date, end_date in filter_dates]\n",
    "\n",
    "# Add each mean image as a layer to the map, with the middle date as the layer label\n",
    "for mean_image, middle_date in zip(mean_images, middle_dates):\n",
    "    m.addLayer(mean_image, {'min': -25, 'max': 5}, middle_date, True)\n",
    "\n",
    "f = imgVV.filterBounds(geometry).filterDate(startDate, endDate)\n",
    "\n",
    "# Put all dates in a list\n",
    "dates = f.aggregate_array(\"system:time_start\").map(lambda d: ee.Date(d))\n",
    "\n",
    "# Print a list with dates\n",
    "# print(dates.getInfo())"
   ]
  },
  {
   "cell_type": "code",
   "execution_count": 7,
   "id": "be3620cf",
   "metadata": {
    "scrolled": false
   },
   "outputs": [
    {
     "data": {
      "application/vnd.jupyter.widget-view+json": {
       "model_id": "7baa25313fc944699659196c913eb0b0",
       "version_major": 2,
       "version_minor": 0
      },
      "text/plain": [
       "Map(center=[23.362844116577374, 89.00210579267959], controls=(WidgetControl(options=['position', 'transparent_…"
      ]
     },
     "metadata": {},
     "output_type": "display_data"
    }
   ],
   "source": [
    "m.add_basemap('HYBRID')\n",
    "m.centerObject(geometry, zoom=16)\n",
    "m.addLayer(geometry, {'color': 'red'}, 'Polygon')\n",
    "\n",
    "m"
   ]
  },
  {
   "cell_type": "markdown",
   "id": "b2a85325",
   "metadata": {},
   "source": [
    "### Data availability withing the selected polygon within the selected date range"
   ]
  },
  {
   "cell_type": "code",
   "execution_count": 8,
   "id": "760a68c6",
   "metadata": {},
   "outputs": [],
   "source": [
    "# Filter the Sentinel-2 Image Collection\n",
    "sentinel2 = ee.ImageCollection('COPERNICUS/S2_SR') \\\n",
    "    .filterBounds(geometry) \\\n",
    "    .filterDate(startDate, endDate)\n",
    "\n",
    "# Define the function to get the date, orbit path number, and count non-null pixels for each image\n",
    "def get_date_orbit_path_and_count_pixels(image):\n",
    "    # Create a binary mask where 1 indicates non-null pixels and 0 indicates null pixels\n",
    "    mask = image.select('B4').mask()\n",
    "    # Count non-null pixels within the polygon\n",
    "    pixel_count = mask.reduceRegion(reducer=ee.Reducer.count(),\n",
    "                                     geometry=geometry,\n",
    "                                     scale=10).get('B4')\n",
    "    # Get the date and orbit path number of the image\n",
    "    date = image.date().format('YYYY-MM-dd')\n",
    "    orbit_path = image.get('SENSING_ORBIT_NUMBER')\n",
    "    return image.set('pixelCount', pixel_count).set('date', date).set('orbitPath', orbit_path)\n",
    "\n",
    "# Apply the function to the image collection\n",
    "sentinel2_with_dates_orbit_paths_and_counts = sentinel2.map(get_date_orbit_path_and_count_pixels)\n",
    "\n",
    "# Print the result\n",
    "dates = sentinel2_with_dates_orbit_paths_and_counts.aggregate_array('date').getInfo()\n",
    "orbit_paths = sentinel2_with_dates_orbit_paths_and_counts.aggregate_array('orbitPath').getInfo()\n",
    "pixel_counts = sentinel2_with_dates_orbit_paths_and_counts.aggregate_array('pixelCount').getInfo()\n"
   ]
  },
  {
   "cell_type": "code",
   "execution_count": 9,
   "id": "8c842788",
   "metadata": {},
   "outputs": [
    {
     "name": "stdout",
     "output_type": "stream",
     "text": [
      "           Date  Orbit Path  Pixel Count\n",
      "0    2021-01-04          33           27\n",
      "1    2021-01-04          33           27\n",
      "2    2021-01-09          33           27\n",
      "3    2021-01-09          33           27\n",
      "4    2021-01-14          33           27\n",
      "..          ...         ...          ...\n",
      "173  2022-03-15          33           27\n",
      "174  2022-03-20          33           27\n",
      "175  2022-03-20          33           27\n",
      "176  2022-03-25          33           27\n",
      "177  2022-03-25          33           27\n",
      "\n",
      "[178 rows x 3 columns]\n"
     ]
    }
   ],
   "source": [
    "# Create a pandas dataframe from the dates, orbit_paths, and pixel_counts\n",
    "df = pd.DataFrame({'Date': dates, 'Orbit Path': orbit_paths, 'Pixel Count': pixel_counts})\n",
    "\n",
    "# Display the dataframe in a nice format\n",
    "print(df)"
   ]
  },
  {
   "cell_type": "code",
   "execution_count": 10,
   "id": "d8c42bef",
   "metadata": {},
   "outputs": [
    {
     "name": "stdout",
     "output_type": "stream",
     "text": [
      "[33]\n"
     ]
    }
   ],
   "source": [
    "# Get the unique values in the list by converting it to a set.\n",
    "unique_orbit_paths = set(orbit_paths)\n",
    "\n",
    "# If you need the unique values as a list, convert the set back to a list.\n",
    "unique_orbit_paths_list = list(unique_orbit_paths)\n",
    "\n",
    "print(unique_orbit_paths_list)"
   ]
  },
  {
   "cell_type": "markdown",
   "id": "9ca9c0a3",
   "metadata": {},
   "source": [
    "### Plot histogram of sentinal 1 backscattering values for given date range inside polygon"
   ]
  },
  {
   "cell_type": "code",
   "execution_count": 11,
   "id": "bbe8e647",
   "metadata": {},
   "outputs": [
    {
     "data": {
      "application/vnd.jupyter.widget-view+json": {
       "model_id": "d464f6b45f7843a48622332a8b028ddf",
       "version_major": 2,
       "version_minor": 0
      },
      "text/plain": [
       "Map(center=[23.362844116577374, 89.00210579267959], controls=(WidgetControl(options=['position', 'transparent_…"
      ]
     },
     "metadata": {},
     "output_type": "display_data"
    }
   ],
   "source": [
    "# Information of geometry to zoom\n",
    "centroid = geometry.centroid().getInfo()['coordinates']\n",
    "center = [centroid[1], centroid[0]]\n",
    "\n",
    "# Create a map centered on the polygon geometry\n",
    "Map = geemap.Map(center=center, zoom=16)\n",
    "Map.add_basemap('HYBRID')\n",
    "Map.add_ee_layer(geometry, {'color': 'red'}, 'Polygon geometry')\n",
    "\n",
    "# Filter the Sentinel-1 VV dataset to the geometry and date range\n",
    "sentinel_1 = ee.ImageCollection('COPERNICUS/S1_GRD') \\\n",
    "    .filterBounds(geometry) \\\n",
    "    .filterDate('2021-01-01', '2022-12-31') \\\n",
    "    .filter(ee.Filter.listContains('transmitterReceiverPolarisation', 'VV')) \\\n",
    "    .filter(ee.Filter.eq('instrumentMode', 'IW'))\n",
    "\n",
    "# Get the median image from the Sentinel-1 VV dataset\n",
    "median_image = sentinel_1.median()\n",
    "\n",
    "Map.add_ee_layer(median_image.select('VV'), {'min': -25, 'max': 5, 'palette': 'gray'}, 'Median Image')\n",
    "\n",
    "# Display the map\n",
    "Map"
   ]
  },
  {
   "cell_type": "code",
   "execution_count": 12,
   "id": "38bb6abd",
   "metadata": {},
   "outputs": [
    {
     "ename": "NameError",
     "evalue": "name 'plt' is not defined",
     "output_type": "error",
     "traceback": [
      "\u001b[0;31m---------------------------------------------------------------------------\u001b[0m",
      "\u001b[0;31mNameError\u001b[0m                                 Traceback (most recent call last)",
      "\u001b[0;32m/var/folders/24/0hnc07_91nndxxzhr7g6vpvm0000gq/T/ipykernel_21463/3125469927.py\u001b[0m in \u001b[0;36m<module>\u001b[0;34m\u001b[0m\n\u001b[1;32m     11\u001b[0m \u001b[0;34m\u001b[0m\u001b[0m\n\u001b[1;32m     12\u001b[0m \u001b[0;31m# Plot a histogram of df.VV with a small interval\u001b[0m\u001b[0;34m\u001b[0m\u001b[0;34m\u001b[0m\u001b[0m\n\u001b[0;32m---> 13\u001b[0;31m \u001b[0mplt\u001b[0m\u001b[0;34m.\u001b[0m\u001b[0mhist\u001b[0m\u001b[0;34m(\u001b[0m\u001b[0mdf\u001b[0m\u001b[0;34m[\u001b[0m\u001b[0;34m'VV'\u001b[0m\u001b[0;34m]\u001b[0m\u001b[0;34m,\u001b[0m \u001b[0mbins\u001b[0m\u001b[0;34m=\u001b[0m\u001b[0;36m15\u001b[0m\u001b[0;34m)\u001b[0m\u001b[0;34m\u001b[0m\u001b[0;34m\u001b[0m\u001b[0m\n\u001b[0m\u001b[1;32m     14\u001b[0m \u001b[0mplt\u001b[0m\u001b[0;34m.\u001b[0m\u001b[0mxlabel\u001b[0m\u001b[0;34m(\u001b[0m\u001b[0;34m'VV values'\u001b[0m\u001b[0;34m)\u001b[0m\u001b[0;34m\u001b[0m\u001b[0;34m\u001b[0m\u001b[0m\n\u001b[1;32m     15\u001b[0m \u001b[0mplt\u001b[0m\u001b[0;34m.\u001b[0m\u001b[0mylabel\u001b[0m\u001b[0;34m(\u001b[0m\u001b[0;34m'Frequency'\u001b[0m\u001b[0;34m)\u001b[0m\u001b[0;34m\u001b[0m\u001b[0;34m\u001b[0m\u001b[0m\n",
      "\u001b[0;31mNameError\u001b[0m: name 'plt' is not defined"
     ]
    }
   ],
   "source": [
    "# Get the values within the polygon as a feature collection\n",
    "values = median_image.reduceRegion(\n",
    "    reducer=ee.Reducer.toList(),\n",
    "    geometry=geometry,\n",
    "    scale=10,\n",
    "    maxPixels=1e10\n",
    ").get('VV')\n",
    "\n",
    "# Convert the feature collection to a pandas dataframe\n",
    "df = pd.DataFrame(values.getInfo(), columns=['VV'])\n",
    "\n",
    "# Plot a histogram of df.VV with a small interval\n",
    "plt.hist(df['VV'], bins=15)\n",
    "plt.xlabel('VV values')\n",
    "plt.ylabel('Frequency')\n",
    "plt.title('Histogram of VV values')\n",
    "plt.show()\n"
   ]
  },
  {
   "cell_type": "markdown",
   "id": "bd8aefc4",
   "metadata": {},
   "source": [
    "### Plot time series of VV"
   ]
  },
  {
   "cell_type": "code",
   "execution_count": 476,
   "id": "41ceb2b1",
   "metadata": {},
   "outputs": [],
   "source": [
    "# Define start and end dates\n",
    "start_date = '2023-01-01'\n",
    "end_date = '2023-03-30'"
   ]
  },
  {
   "cell_type": "code",
   "execution_count": 477,
   "id": "4f42ff76",
   "metadata": {},
   "outputs": [
    {
     "data": {
      "image/png": "[encoded data removed]",
      "text/plain": [
       "<Figure size 1000x300 with 1 Axes>"
      ]
     },
     "metadata": {},
     "output_type": "display_data"
    }
   ],
   "source": [
    "# Filter the Sentinel-1 VV dataset to the geometry and date range\n",
    "sentinel_1 = ee.ImageCollection('COPERNICUS/S1_GRD') \\\n",
    "    .filterBounds(geometry) \\\n",
    "    .filterDate(start_date, end_date) \\\n",
    "    .filter(ee.Filter.listContains('transmitterReceiverPolarisation', 'VV')) \\\n",
    "    .filter(ee.Filter.eq('instrumentMode', 'IW'))\n",
    "    \n",
    "# Get the time series of VV values within the polygon\n",
    "values = sentinel_1.filterBounds(geometry).getRegion(geometry, 10).getInfo()\n",
    "\n",
    "# # Convert the time series to a pandas dataframe\n",
    "df = pd.DataFrame(values[1:], columns=values[0])\n",
    "df['time'] = pd.to_datetime(df['time'], unit='ms')\n",
    "df['date'] = df['time'].dt.date\n",
    "# df = df.set_index('date')\n",
    "df['VV'] = df['VV'].astype(float)\n",
    "\n",
    "# Calculate the mean VV value for each date\n",
    "df_vv_mean = df.groupby('date').mean()\n",
    "\n",
    "# Plot the mean VV value for each date with a figure dimension of 12 by 4\n",
    "plt.figure(figsize=(10, 3))\n",
    "df_vv_mean['VV'].plot(linewidth=0.8)\n",
    "plt.scatter(df_vv_mean.index, df_vv_mean['VV'], s=10)\n",
    "plt.xlabel('Date')\n",
    "plt.ylabel('VV values')\n",
    "plt.title('Mean VV value for each date')\n",
    "plt.show()\n"
   ]
  },
  {
   "cell_type": "code",
   "execution_count": 478,
   "id": "e30da295",
   "metadata": {},
   "outputs": [
    {
     "data": {
      "text/html": [
       "<div>\n",
       "<style scoped>\n",
       "    .dataframe tbody tr th:only-of-type {\n",
       "        vertical-align: middle;\n",
       "    }\n",
       "\n",
       "    .dataframe tbody tr th {\n",
       "        vertical-align: top;\n",
       "    }\n",
       "\n",
       "    .dataframe thead th {\n",
       "        text-align: right;\n",
       "    }\n",
       "</style>\n",
       "<table border=\"1\" class=\"dataframe\">\n",
       "  <thead>\n",
       "    <tr style=\"text-align: right;\">\n",
       "      <th></th>\n",
       "      <th>id</th>\n",
       "      <th>longitude</th>\n",
       "      <th>latitude</th>\n",
       "      <th>time</th>\n",
       "      <th>VV</th>\n",
       "      <th>VH</th>\n",
       "      <th>angle</th>\n",
       "      <th>date</th>\n",
       "    </tr>\n",
       "  </thead>\n",
       "  <tbody>\n",
       "    <tr>\n",
       "      <th>0</th>\n",
       "      <td>S1A_IW_GRDH_1SDV_20230101T235628_20230101T2356...</td>\n",
       "      <td>89.001171</td>\n",
       "      <td>23.362081</td>\n",
       "      <td>2023-01-01 23:56:28</td>\n",
       "      <td>-13.584390</td>\n",
       "      <td>-21.090999</td>\n",
       "      <td>43.566517</td>\n",
       "      <td>2023-01-01</td>\n",
       "    </tr>\n",
       "    <tr>\n",
       "      <th>1</th>\n",
       "      <td>S1A_IW_GRDH_1SDV_20230104T121246_20230104T1213...</td>\n",
       "      <td>89.001171</td>\n",
       "      <td>23.362081</td>\n",
       "      <td>2023-01-04 12:12:46</td>\n",
       "      <td>-16.622869</td>\n",
       "      <td>-29.138758</td>\n",
       "      <td>42.166882</td>\n",
       "      <td>2023-01-04</td>\n",
       "    </tr>\n",
       "    <tr>\n",
       "      <th>2</th>\n",
       "      <td>S1A_IW_GRDH_1SDV_20230107T000435_20230107T0005...</td>\n",
       "      <td>89.001171</td>\n",
       "      <td>23.362081</td>\n",
       "      <td>2023-01-07 00:04:35</td>\n",
       "      <td>-8.728052</td>\n",
       "      <td>-25.263304</td>\n",
       "      <td>30.758656</td>\n",
       "      <td>2023-01-07</td>\n",
       "    </tr>\n",
       "  </tbody>\n",
       "</table>\n",
       "</div>"
      ],
      "text/plain": [
       "                                                  id  longitude   latitude  \\\n",
       "0  S1A_IW_GRDH_1SDV_20230101T235628_20230101T2356...  89.001171  23.362081   \n",
       "1  S1A_IW_GRDH_1SDV_20230104T121246_20230104T1213...  89.001171  23.362081   \n",
       "2  S1A_IW_GRDH_1SDV_20230107T000435_20230107T0005...  89.001171  23.362081   \n",
       "\n",
       "                 time         VV         VH      angle        date  \n",
       "0 2023-01-01 23:56:28 -13.584390 -21.090999  43.566517  2023-01-01  \n",
       "1 2023-01-04 12:12:46 -16.622869 -29.138758  42.166882  2023-01-04  \n",
       "2 2023-01-07 00:04:35  -8.728052 -25.263304  30.758656  2023-01-07  "
      ]
     },
     "execution_count": 478,
     "metadata": {},
     "output_type": "execute_result"
    }
   ],
   "source": [
    "df.head(3)"
   ]
  },
  {
   "cell_type": "markdown",
   "id": "4876bebd",
   "metadata": {},
   "source": [
    "### Flood/no-flood determination"
   ]
  },
  {
   "cell_type": "code",
   "execution_count": 479,
   "id": "e4faf6c9",
   "metadata": {},
   "outputs": [
    {
     "data": {
      "image/png": "[encoded data removed]",
      "text/plain": [
       "<Figure size 800x300 with 1 Axes>"
      ]
     },
     "metadata": {},
     "output_type": "display_data"
    }
   ],
   "source": [
    "df['flood'] = np.where(df['VV'] < -13, 1, 0)\n",
    "\n",
    "# Plot the time series of the flood column\n",
    "plt.figure(figsize=(8, 3))\n",
    "df.groupby('date').mean()['flood'].plot(linewidth=0.5, color='blue')\n",
    "plt.xlabel('Date')\n",
    "plt.ylabel('Flood (1) / Not-Flood (0)')\n",
    "plt.title('Time series of flood in the area')\n",
    "plt.grid(True, which='both', axis='both')\n",
    "plt.legend(['Flood'])\n",
    "plt.show()\n"
   ]
  },
  {
   "cell_type": "markdown",
   "id": "adbd47c8",
   "metadata": {},
   "source": [
    "#### Interactive plot"
   ]
  },
  {
   "cell_type": "code",
   "execution_count": 480,
   "id": "e0cdd118",
   "metadata": {},
   "outputs": [
    {
     "data": {
      "application/vnd.plotly.v1+json": {
       "config": {
        "plotlyServerURL": "https://plot.ly"
       },
       "data": [
        {
         "hovertemplate": "date=%{x}<br>flood=%{y}<extra></extra>",
         "legendgroup": "",
         "line": {
          "color": "#636efa",
          "dash": "solid"
         },
         "marker": {
          "symbol": "circle"
         },
         "mode": "lines",
         "name": "",
         "orientation": "v",
         "showlegend": false,
         "type": "scatter",
         "x": [
          "2023-01-01",
          "2023-01-04",
          "2023-01-07",
          "2023-01-13",
          "2023-01-16",
          "2023-01-19",
          "2023-01-25",
          "2023-01-28",
          "2023-01-31",
          "2023-02-06",
          "2023-02-09",
          "2023-02-18",
          "2023-02-21",
          "2023-02-24",
          "2023-03-02",
          "2023-03-05",
          "2023-03-08",
          "2023-03-14",
          "2023-03-17",
          "2023-03-26"
         ],
         "xaxis": "x",
         "y": [
          0.75,
          0.6428571428571429,
          0.10714285714285714,
          0.03571428571428571,
          0,
          0.4642857142857143,
          0.8571428571428571,
          0.9642857142857143,
          0.35714285714285715,
          0.10714285714285714,
          0,
          0,
          0,
          0.03571428571428571,
          0.07142857142857142,
          0,
          0,
          0.39285714285714285,
          0.5714285714285714,
          0.7857142857142857
         ],
         "yaxis": "y"
        }
       ],
       "layout": {
        "height": 400,
        "legend": {
         "tracegroupgap": 0
        },
        "plot_bgcolor": "white",
        "template": {
         "data": {
          "bar": [
           {
            "error_x": {
             "color": "#2a3f5f"
            },
            "error_y": {
             "color": "#2a3f5f"
            },
            "marker": {
             "line": {
              "color": "#E5ECF6",
              "width": 0.5
             },
             "pattern": {
              "fillmode": "overlay",
              "size": 10,
              "solidity": 0.2
             }
            },
            "type": "bar"
           }
          ],
          "barpolar": [
           {
            "marker": {
             "line": {
              "color": "#E5ECF6",
              "width": 0.5
             },
             "pattern": {
              "fillmode": "overlay",
              "size": 10,
              "solidity": 0.2
             }
            },
            "type": "barpolar"
           }
          ],
          "carpet": [
           {
            "aaxis": {
             "endlinecolor": "#2a3f5f",
             "gridcolor": "white",
             "linecolor": "white",
             "minorgridcolor": "white",
             "startlinecolor": "#2a3f5f"
            },
            "baxis": {
             "endlinecolor": "#2a3f5f",
             "gridcolor": "white",
             "linecolor": "white",
             "minorgridcolor": "white",
             "startlinecolor": "#2a3f5f"
            },
            "type": "carpet"
           }
          ],
          "choropleth": [
           {
            "colorbar": {
             "outlinewidth": 0,
             "ticks": ""
            },
            "type": "choropleth"
           }
          ],
          "contour": [
           {
            "colorbar": {
             "outlinewidth": 0,
             "ticks": ""
            },
            "colorscale": [
             [
              0,
              "#0d0887"
             ],
             [
              0.1111111111111111,
              "#46039f"
             ],
             [
              0.2222222222222222,
              "#7201a8"
             ],
             [
              0.3333333333333333,
              "#9c179e"
             ],
             [
              0.4444444444444444,
              "#bd3786"
             ],
             [
              0.5555555555555556,
              "#d8576b"
             ],
             [
              0.6666666666666666,
              "#ed7953"
             ],
             [
              0.7777777777777778,
              "#fb9f3a"
             ],
             [
              0.8888888888888888,
              "#fdca26"
             ],
             [
              1,
              "#f0f921"
             ]
            ],
            "type": "contour"
           }
          ],
          "contourcarpet": [
           {
            "colorbar": {
             "outlinewidth": 0,
             "ticks": ""
            },
            "type": "contourcarpet"
           }
          ],
          "heatmap": [
           {
            "colorbar": {
             "outlinewidth": 0,
             "ticks": ""
            },
            "colorscale": [
             [
              0,
              "#0d0887"
             ],
             [
              0.1111111111111111,
              "#46039f"
             ],
             [
              0.2222222222222222,
              "#7201a8"
             ],
             [
              0.3333333333333333,
              "#9c179e"
             ],
             [
              0.4444444444444444,
              "#bd3786"
             ],
             [
              0.5555555555555556,
              "#d8576b"
             ],
             [
              0.6666666666666666,
              "#ed7953"
             ],
             [
              0.7777777777777778,
              "#fb9f3a"
             ],
             [
              0.8888888888888888,
              "#fdca26"
             ],
             [
              1,
              "#f0f921"
             ]
            ],
            "type": "heatmap"
           }
          ],
          "heatmapgl": [
           {
            "colorbar": {
             "outlinewidth": 0,
             "ticks": ""
            },
            "colorscale": [
             [
              0,
              "#0d0887"
             ],
             [
              0.1111111111111111,
              "#46039f"
             ],
             [
              0.2222222222222222,
              "#7201a8"
             ],
             [
              0.3333333333333333,
              "#9c179e"
             ],
             [
              0.4444444444444444,
              "#bd3786"
             ],
             [
              0.5555555555555556,
              "#d8576b"
             ],
             [
              0.6666666666666666,
              "#ed7953"
             ],
             [
              0.7777777777777778,
              "#fb9f3a"
             ],
             [
              0.8888888888888888,
              "#fdca26"
             ],
             [
              1,
              "#f0f921"
             ]
            ],
            "type": "heatmapgl"
           }
          ],
          "histogram": [
           {
            "marker": {
             "pattern": {
              "fillmode": "overlay",
              "size": 10,
              "solidity": 0.2
             }
            },
            "type": "histogram"
           }
          ],
          "histogram2d": [
           {
            "colorbar": {
             "outlinewidth": 0,
             "ticks": ""
            },
            "colorscale": [
             [
              0,
              "#0d0887"
             ],
             [
              0.1111111111111111,
              "#46039f"
             ],
             [
              0.2222222222222222,
              "#7201a8"
             ],
             [
              0.3333333333333333,
              "#9c179e"
             ],
             [
              0.4444444444444444,
              "#bd3786"
             ],
             [
              0.5555555555555556,
              "#d8576b"
             ],
             [
              0.6666666666666666,
              "#ed7953"
             ],
             [
              0.7777777777777778,
              "#fb9f3a"
             ],
             [
              0.8888888888888888,
              "#fdca26"
             ],
             [
              1,
              "#f0f921"
             ]
            ],
            "type": "histogram2d"
           }
          ],
          "histogram2dcontour": [
           {
            "colorbar": {
             "outlinewidth": 0,
             "ticks": ""
            },
            "colorscale": [
             [
              0,
              "#0d0887"
             ],
             [
              0.1111111111111111,
              "#46039f"
             ],
             [
              0.2222222222222222,
              "#7201a8"
             ],
             [
              0.3333333333333333,
              "#9c179e"
             ],
             [
              0.4444444444444444,
              "#bd3786"
             ],
             [
              0.5555555555555556,
              "#d8576b"
             ],
             [
              0.6666666666666666,
              "#ed7953"
             ],
             [
              0.7777777777777778,
              "#fb9f3a"
             ],
             [
              0.8888888888888888,
              "#fdca26"
             ],
             [
              1,
              "#f0f921"
             ]
            ],
            "type": "histogram2dcontour"
           }
          ],
          "mesh3d": [
           {
            "colorbar": {
             "outlinewidth": 0,
             "ticks": ""
            },
            "type": "mesh3d"
           }
          ],
          "parcoords": [
           {
            "line": {
             "colorbar": {
              "outlinewidth": 0,
              "ticks": ""
             }
            },
            "type": "parcoords"
           }
          ],
          "pie": [
           {
            "automargin": true,
            "type": "pie"
           }
          ],
          "scatter": [
           {
            "fillpattern": {
             "fillmode": "overlay",
             "size": 10,
             "solidity": 0.2
            },
            "type": "scatter"
           }
          ],
          "scatter3d": [
           {
            "line": {
             "colorbar": {
              "outlinewidth": 0,
              "ticks": ""
             }
            },
            "marker": {
             "colorbar": {
              "outlinewidth": 0,
              "ticks": ""
             }
            },
            "type": "scatter3d"
           }
          ],
          "scattercarpet": [
           {
            "marker": {
             "colorbar": {
              "outlinewidth": 0,
              "ticks": ""
             }
            },
            "type": "scattercarpet"
           }
          ],
          "scattergeo": [
           {
            "marker": {
             "colorbar": {
              "outlinewidth": 0,
              "ticks": ""
             }
            },
            "type": "scattergeo"
           }
          ],
          "scattergl": [
           {
            "marker": {
             "colorbar": {
              "outlinewidth": 0,
              "ticks": ""
             }
            },
            "type": "scattergl"
           }
          ],
          "scattermapbox": [
           {
            "marker": {
             "colorbar": {
              "outlinewidth": 0,
              "ticks": ""
             }
            },
            "type": "scattermapbox"
           }
          ],
          "scatterpolar": [
           {
            "marker": {
             "colorbar": {
              "outlinewidth": 0,
              "ticks": ""
             }
            },
            "type": "scatterpolar"
           }
          ],
          "scatterpolargl": [
           {
            "marker": {
             "colorbar": {
              "outlinewidth": 0,
              "ticks": ""
             }
            },
            "type": "scatterpolargl"
           }
          ],
          "scatterternary": [
           {
            "marker": {
             "colorbar": {
              "outlinewidth": 0,
              "ticks": ""
             }
            },
            "type": "scatterternary"
           }
          ],
          "surface": [
           {
            "colorbar": {
             "outlinewidth": 0,
             "ticks": ""
            },
            "colorscale": [
             [
              0,
              "#0d0887"
             ],
             [
              0.1111111111111111,
              "#46039f"
             ],
             [
              0.2222222222222222,
              "#7201a8"
             ],
             [
              0.3333333333333333,
              "#9c179e"
             ],
             [
              0.4444444444444444,
              "#bd3786"
             ],
             [
              0.5555555555555556,
              "#d8576b"
             ],
             [
              0.6666666666666666,
              "#ed7953"
             ],
             [
              0.7777777777777778,
              "#fb9f3a"
             ],
             [
              0.8888888888888888,
              "#fdca26"
             ],
             [
              1,
              "#f0f921"
             ]
            ],
            "type": "surface"
           }
          ],
          "table": [
           {
            "cells": {
             "fill": {
              "color": "#EBF0F8"
             },
             "line": {
              "color": "white"
             }
            },
            "header": {
             "fill": {
              "color": "#C8D4E3"
             },
             "line": {
              "color": "white"
             }
            },
            "type": "table"
           }
          ]
         },
         "layout": {
          "annotationdefaults": {
           "arrowcolor": "#2a3f5f",
           "arrowhead": 0,
           "arrowwidth": 1
          },
          "autotypenumbers": "strict",
          "coloraxis": {
           "colorbar": {
            "outlinewidth": 0,
            "ticks": ""
           }
          },
          "colorscale": {
           "diverging": [
            [
             0,
             "#8e0152"
            ],
            [
             0.1,
             "#c51b7d"
            ],
            [
             0.2,
             "#de77ae"
            ],
            [
             0.3,
             "#f1b6da"
            ],
            [
             0.4,
             "#fde0ef"
            ],
            [
             0.5,
             "#f7f7f7"
            ],
            [
             0.6,
             "#e6f5d0"
            ],
            [
             0.7,
             "#b8e186"
            ],
            [
             0.8,
             "#7fbc41"
            ],
            [
             0.9,
             "#4d9221"
            ],
            [
             1,
             "#276419"
            ]
           ],
           "sequential": [
            [
             0,
             "#0d0887"
            ],
            [
             0.1111111111111111,
             "#46039f"
            ],
            [
             0.2222222222222222,
             "#7201a8"
            ],
            [
             0.3333333333333333,
             "#9c179e"
            ],
            [
             0.4444444444444444,
             "#bd3786"
            ],
            [
             0.5555555555555556,
             "#d8576b"
            ],
            [
             0.6666666666666666,
             "#ed7953"
            ],
            [
             0.7777777777777778,
             "#fb9f3a"
            ],
            [
             0.8888888888888888,
             "#fdca26"
            ],
            [
             1,
             "#f0f921"
            ]
           ],
           "sequentialminus": [
            [
             0,
             "#0d0887"
            ],
            [
             0.1111111111111111,
             "#46039f"
            ],
            [
             0.2222222222222222,
             "#7201a8"
            ],
            [
             0.3333333333333333,
             "#9c179e"
            ],
            [
             0.4444444444444444,
             "#bd3786"
            ],
            [
             0.5555555555555556,
             "#d8576b"
            ],
            [
             0.6666666666666666,
             "#ed7953"
            ],
            [
             0.7777777777777778,
             "#fb9f3a"
            ],
            [
             0.8888888888888888,
             "#fdca26"
            ],
            [
             1,
             "#f0f921"
            ]
           ]
          },
          "colorway": [
           "#636efa",
           "#EF553B",
           "#00cc96",
           "#ab63fa",
           "#FFA15A",
           "#19d3f3",
           "#FF6692",
           "#B6E880",
           "#FF97FF",
           "#FECB52"
          ],
          "font": {
           "color": "#2a3f5f"
          },
          "geo": {
           "bgcolor": "white",
           "lakecolor": "white",
           "landcolor": "#E5ECF6",
           "showlakes": true,
           "showland": true,
           "subunitcolor": "white"
          },
          "hoverlabel": {
           "align": "left"
          },
          "hovermode": "closest",
          "mapbox": {
           "style": "light"
          },
          "paper_bgcolor": "white",
          "plot_bgcolor": "#E5ECF6",
          "polar": {
           "angularaxis": {
            "gridcolor": "white",
            "linecolor": "white",
            "ticks": ""
           },
           "bgcolor": "#E5ECF6",
           "radialaxis": {
            "gridcolor": "white",
            "linecolor": "white",
            "ticks": ""
           }
          },
          "scene": {
           "xaxis": {
            "backgroundcolor": "#E5ECF6",
            "gridcolor": "white",
            "gridwidth": 2,
            "linecolor": "white",
            "showbackground": true,
            "ticks": "",
            "zerolinecolor": "white"
           },
           "yaxis": {
            "backgroundcolor": "#E5ECF6",
            "gridcolor": "white",
            "gridwidth": 2,
            "linecolor": "white",
            "showbackground": true,
            "ticks": "",
            "zerolinecolor": "white"
           },
           "zaxis": {
            "backgroundcolor": "#E5ECF6",
            "gridcolor": "white",
            "gridwidth": 2,
            "linecolor": "white",
            "showbackground": true,
            "ticks": "",
            "zerolinecolor": "white"
           }
          },
          "shapedefaults": {
           "line": {
            "color": "#2a3f5f"
           }
          },
          "ternary": {
           "aaxis": {
            "gridcolor": "white",
            "linecolor": "white",
            "ticks": ""
           },
           "baxis": {
            "gridcolor": "white",
            "linecolor": "white",
            "ticks": ""
           },
           "bgcolor": "#E5ECF6",
           "caxis": {
            "gridcolor": "white",
            "linecolor": "white",
            "ticks": ""
           }
          },
          "title": {
           "x": 0.05
          },
          "xaxis": {
           "automargin": true,
           "gridcolor": "white",
           "linecolor": "white",
           "ticks": "",
           "title": {
            "standoff": 15
           },
           "zerolinecolor": "white",
           "zerolinewidth": 2
          },
          "yaxis": {
           "automargin": true,
           "gridcolor": "white",
           "linecolor": "white",
           "ticks": "",
           "title": {
            "standoff": 15
           },
           "zerolinecolor": "white",
           "zerolinewidth": 2
          }
         }
        },
        "title": {
         "text": "Time series of flood in the area"
        },
        "width": 800,
        "xaxis": {
         "anchor": "y",
         "domain": [
          0,
          1
         ],
         "title": {
          "text": "Date"
         }
        },
        "yaxis": {
         "anchor": "x",
         "domain": [
          0,
          1
         ],
         "range": [
          0,
          1
         ],
         "showgrid": true,
         "title": {
          "text": "Flood (1) / Not-Flood (0)"
         }
        }
       }
      },
      "text/html": [
       "<div>                            <div id=\"57917b12-260c-4901-b062-1b7a9e8126bb\" class=\"plotly-graph-div\" style=\"height:400px; width:800px;\"></div>            <script type=\"text/javascript\">                require([\"plotly\"], function(Plotly) {                    window.PLOTLYENV=window.PLOTLYENV || {};                                    if (document.getElementById(\"57917b12-260c-4901-b062-1b7a9e8126bb\")) {                    Plotly.newPlot(                        \"57917b12-260c-4901-b062-1b7a9e8126bb\",                        [{\"hovertemplate\":\"date=%{x}<br>flood=%{y}<extra></extra>\",\"legendgroup\":\"\",\"line\":{\"color\":\"#636efa\",\"dash\":\"solid\"},\"marker\":{\"symbol\":\"circle\"},\"mode\":\"lines\",\"name\":\"\",\"orientation\":\"v\",\"showlegend\":false,\"x\":[\"2023-01-01\",\"2023-01-04\",\"2023-01-07\",\"2023-01-13\",\"2023-01-16\",\"2023-01-19\",\"2023-01-25\",\"2023-01-28\",\"2023-01-31\",\"2023-02-06\",\"2023-02-09\",\"2023-02-18\",\"2023-02-21\",\"2023-02-24\",\"2023-03-02\",\"2023-03-05\",\"2023-03-08\",\"2023-03-14\",\"2023-03-17\",\"2023-03-26\"],\"xaxis\":\"x\",\"y\":[0.75,0.6428571428571429,0.10714285714285714,0.03571428571428571,0.0,0.4642857142857143,0.8571428571428571,0.9642857142857143,0.35714285714285715,0.10714285714285714,0.0,0.0,0.0,0.03571428571428571,0.07142857142857142,0.0,0.0,0.39285714285714285,0.5714285714285714,0.7857142857142857],\"yaxis\":\"y\",\"type\":\"scatter\"}],                        {\"template\":{\"data\":{\"histogram2dcontour\":[{\"type\":\"histogram2dcontour\",\"colorbar\":{\"outlinewidth\":0,\"ticks\":\"\"},\"colorscale\":[[0.0,\"#0d0887\"],[0.1111111111111111,\"#46039f\"],[0.2222222222222222,\"#7201a8\"],[0.3333333333333333,\"#9c179e\"],[0.4444444444444444,\"#bd3786\"],[0.5555555555555556,\"#d8576b\"],[0.6666666666666666,\"#ed7953\"],[0.7777777777777778,\"#fb9f3a\"],[0.8888888888888888,\"#fdca26\"],[1.0,\"#f0f921\"]]}],\"choropleth\":[{\"type\":\"choropleth\",\"colorbar\":{\"outlinewidth\":0,\"ticks\":\"\"}}],\"histogram2d\":[{\"type\":\"histogram2d\",\"colorbar\":{\"outlinewidth\":0,\"ticks\":\"\"},\"colorscale\":[[0.0,\"#0d0887\"],[0.1111111111111111,\"#46039f\"],[0.2222222222222222,\"#7201a8\"],[0.3333333333333333,\"#9c179e\"],[0.4444444444444444,\"#bd3786\"],[0.5555555555555556,\"#d8576b\"],[0.6666666666666666,\"#ed7953\"],[0.7777777777777778,\"#fb9f3a\"],[0.8888888888888888,\"#fdca26\"],[1.0,\"#f0f921\"]]}],\"heatmap\":[{\"type\":\"heatmap\",\"colorbar\":{\"outlinewidth\":0,\"ticks\":\"\"},\"colorscale\":[[0.0,\"#0d0887\"],[0.1111111111111111,\"#46039f\"],[0.2222222222222222,\"#7201a8\"],[0.3333333333333333,\"#9c179e\"],[0.4444444444444444,\"#bd3786\"],[0.5555555555555556,\"#d8576b\"],[0.6666666666666666,\"#ed7953\"],[0.7777777777777778,\"#fb9f3a\"],[0.8888888888888888,\"#fdca26\"],[1.0,\"#f0f921\"]]}],\"heatmapgl\":[{\"type\":\"heatmapgl\",\"colorbar\":{\"outlinewidth\":0,\"ticks\":\"\"},\"colorscale\":[[0.0,\"#0d0887\"],[0.1111111111111111,\"#46039f\"],[0.2222222222222222,\"#7201a8\"],[0.3333333333333333,\"#9c179e\"],[0.4444444444444444,\"#bd3786\"],[0.5555555555555556,\"#d8576b\"],[0.6666666666666666,\"#ed7953\"],[0.7777777777777778,\"#fb9f3a\"],[0.8888888888888888,\"#fdca26\"],[1.0,\"#f0f921\"]]}],\"contourcarpet\":[{\"type\":\"contourcarpet\",\"colorbar\":{\"outlinewidth\":0,\"ticks\":\"\"}}],\"contour\":[{\"type\":\"contour\",\"colorbar\":{\"outlinewidth\":0,\"ticks\":\"\"},\"colorscale\":[[0.0,\"#0d0887\"],[0.1111111111111111,\"#46039f\"],[0.2222222222222222,\"#7201a8\"],[0.3333333333333333,\"#9c179e\"],[0.4444444444444444,\"#bd3786\"],[0.5555555555555556,\"#d8576b\"],[0.6666666666666666,\"#ed7953\"],[0.7777777777777778,\"#fb9f3a\"],[0.8888888888888888,\"#fdca26\"],[1.0,\"#f0f921\"]]}],\"surface\":[{\"type\":\"surface\",\"colorbar\":{\"outlinewidth\":0,\"ticks\":\"\"},\"colorscale\":[[0.0,\"#0d0887\"],[0.1111111111111111,\"#46039f\"],[0.2222222222222222,\"#7201a8\"],[0.3333333333333333,\"#9c179e\"],[0.4444444444444444,\"#bd3786\"],[0.5555555555555556,\"#d8576b\"],[0.6666666666666666,\"#ed7953\"],[0.7777777777777778,\"#fb9f3a\"],[0.8888888888888888,\"#fdca26\"],[1.0,\"#f0f921\"]]}],\"mesh3d\":[{\"type\":\"mesh3d\",\"colorbar\":{\"outlinewidth\":0,\"ticks\":\"\"}}],\"scatter\":[{\"fillpattern\":{\"fillmode\":\"overlay\",\"size\":10,\"solidity\":0.2},\"type\":\"scatter\"}],\"parcoords\":[{\"type\":\"parcoords\",\"line\":{\"colorbar\":{\"outlinewidth\":0,\"ticks\":\"\"}}}],\"scatterpolargl\":[{\"type\":\"scatterpolargl\",\"marker\":{\"colorbar\":{\"outlinewidth\":0,\"ticks\":\"\"}}}],\"bar\":[{\"error_x\":{\"color\":\"#2a3f5f\"},\"error_y\":{\"color\":\"#2a3f5f\"},\"marker\":{\"line\":{\"color\":\"#E5ECF6\",\"width\":0.5},\"pattern\":{\"fillmode\":\"overlay\",\"size\":10,\"solidity\":0.2}},\"type\":\"bar\"}],\"scattergeo\":[{\"type\":\"scattergeo\",\"marker\":{\"colorbar\":{\"outlinewidth\":0,\"ticks\":\"\"}}}],\"scatterpolar\":[{\"type\":\"scatterpolar\",\"marker\":{\"colorbar\":{\"outlinewidth\":0,\"ticks\":\"\"}}}],\"histogram\":[{\"marker\":{\"pattern\":{\"fillmode\":\"overlay\",\"size\":10,\"solidity\":0.2}},\"type\":\"histogram\"}],\"scattergl\":[{\"type\":\"scattergl\",\"marker\":{\"colorbar\":{\"outlinewidth\":0,\"ticks\":\"\"}}}],\"scatter3d\":[{\"type\":\"scatter3d\",\"line\":{\"colorbar\":{\"outlinewidth\":0,\"ticks\":\"\"}},\"marker\":{\"colorbar\":{\"outlinewidth\":0,\"ticks\":\"\"}}}],\"scattermapbox\":[{\"type\":\"scattermapbox\",\"marker\":{\"colorbar\":{\"outlinewidth\":0,\"ticks\":\"\"}}}],\"scatterternary\":[{\"type\":\"scatterternary\",\"marker\":{\"colorbar\":{\"outlinewidth\":0,\"ticks\":\"\"}}}],\"scattercarpet\":[{\"type\":\"scattercarpet\",\"marker\":{\"colorbar\":{\"outlinewidth\":0,\"ticks\":\"\"}}}],\"carpet\":[{\"aaxis\":{\"endlinecolor\":\"#2a3f5f\",\"gridcolor\":\"white\",\"linecolor\":\"white\",\"minorgridcolor\":\"white\",\"startlinecolor\":\"#2a3f5f\"},\"baxis\":{\"endlinecolor\":\"#2a3f5f\",\"gridcolor\":\"white\",\"linecolor\":\"white\",\"minorgridcolor\":\"white\",\"startlinecolor\":\"#2a3f5f\"},\"type\":\"carpet\"}],\"table\":[{\"cells\":{\"fill\":{\"color\":\"#EBF0F8\"},\"line\":{\"color\":\"white\"}},\"header\":{\"fill\":{\"color\":\"#C8D4E3\"},\"line\":{\"color\":\"white\"}},\"type\":\"table\"}],\"barpolar\":[{\"marker\":{\"line\":{\"color\":\"#E5ECF6\",\"width\":0.5},\"pattern\":{\"fillmode\":\"overlay\",\"size\":10,\"solidity\":0.2}},\"type\":\"barpolar\"}],\"pie\":[{\"automargin\":true,\"type\":\"pie\"}]},\"layout\":{\"autotypenumbers\":\"strict\",\"colorway\":[\"#636efa\",\"#EF553B\",\"#00cc96\",\"#ab63fa\",\"#FFA15A\",\"#19d3f3\",\"#FF6692\",\"#B6E880\",\"#FF97FF\",\"#FECB52\"],\"font\":{\"color\":\"#2a3f5f\"},\"hovermode\":\"closest\",\"hoverlabel\":{\"align\":\"left\"},\"paper_bgcolor\":\"white\",\"plot_bgcolor\":\"#E5ECF6\",\"polar\":{\"bgcolor\":\"#E5ECF6\",\"angularaxis\":{\"gridcolor\":\"white\",\"linecolor\":\"white\",\"ticks\":\"\"},\"radialaxis\":{\"gridcolor\":\"white\",\"linecolor\":\"white\",\"ticks\":\"\"}},\"ternary\":{\"bgcolor\":\"#E5ECF6\",\"aaxis\":{\"gridcolor\":\"white\",\"linecolor\":\"white\",\"ticks\":\"\"},\"baxis\":{\"gridcolor\":\"white\",\"linecolor\":\"white\",\"ticks\":\"\"},\"caxis\":{\"gridcolor\":\"white\",\"linecolor\":\"white\",\"ticks\":\"\"}},\"coloraxis\":{\"colorbar\":{\"outlinewidth\":0,\"ticks\":\"\"}},\"colorscale\":{\"sequential\":[[0.0,\"#0d0887\"],[0.1111111111111111,\"#46039f\"],[0.2222222222222222,\"#7201a8\"],[0.3333333333333333,\"#9c179e\"],[0.4444444444444444,\"#bd3786\"],[0.5555555555555556,\"#d8576b\"],[0.6666666666666666,\"#ed7953\"],[0.7777777777777778,\"#fb9f3a\"],[0.8888888888888888,\"#fdca26\"],[1.0,\"#f0f921\"]],\"sequentialminus\":[[0.0,\"#0d0887\"],[0.1111111111111111,\"#46039f\"],[0.2222222222222222,\"#7201a8\"],[0.3333333333333333,\"#9c179e\"],[0.4444444444444444,\"#bd3786\"],[0.5555555555555556,\"#d8576b\"],[0.6666666666666666,\"#ed7953\"],[0.7777777777777778,\"#fb9f3a\"],[0.8888888888888888,\"#fdca26\"],[1.0,\"#f0f921\"]],\"diverging\":[[0,\"#8e0152\"],[0.1,\"#c51b7d\"],[0.2,\"#de77ae\"],[0.3,\"#f1b6da\"],[0.4,\"#fde0ef\"],[0.5,\"#f7f7f7\"],[0.6,\"#e6f5d0\"],[0.7,\"#b8e186\"],[0.8,\"#7fbc41\"],[0.9,\"#4d9221\"],[1,\"#276419\"]]},\"xaxis\":{\"gridcolor\":\"white\",\"linecolor\":\"white\",\"ticks\":\"\",\"title\":{\"standoff\":15},\"zerolinecolor\":\"white\",\"automargin\":true,\"zerolinewidth\":2},\"yaxis\":{\"gridcolor\":\"white\",\"linecolor\":\"white\",\"ticks\":\"\",\"title\":{\"standoff\":15},\"zerolinecolor\":\"white\",\"automargin\":true,\"zerolinewidth\":2},\"scene\":{\"xaxis\":{\"backgroundcolor\":\"#E5ECF6\",\"gridcolor\":\"white\",\"linecolor\":\"white\",\"showbackground\":true,\"ticks\":\"\",\"zerolinecolor\":\"white\",\"gridwidth\":2},\"yaxis\":{\"backgroundcolor\":\"#E5ECF6\",\"gridcolor\":\"white\",\"linecolor\":\"white\",\"showbackground\":true,\"ticks\":\"\",\"zerolinecolor\":\"white\",\"gridwidth\":2},\"zaxis\":{\"backgroundcolor\":\"#E5ECF6\",\"gridcolor\":\"white\",\"linecolor\":\"white\",\"showbackground\":true,\"ticks\":\"\",\"zerolinecolor\":\"white\",\"gridwidth\":2}},\"shapedefaults\":{\"line\":{\"color\":\"#2a3f5f\"}},\"annotationdefaults\":{\"arrowcolor\":\"#2a3f5f\",\"arrowhead\":0,\"arrowwidth\":1},\"geo\":{\"bgcolor\":\"white\",\"landcolor\":\"#E5ECF6\",\"subunitcolor\":\"white\",\"showland\":true,\"showlakes\":true,\"lakecolor\":\"white\"},\"title\":{\"x\":0.05},\"mapbox\":{\"style\":\"light\"}}},\"xaxis\":{\"anchor\":\"y\",\"domain\":[0.0,1.0],\"title\":{\"text\":\"Date\"}},\"yaxis\":{\"anchor\":\"x\",\"domain\":[0.0,1.0],\"title\":{\"text\":\"Flood (1) / Not-Flood (0)\"},\"range\":[0,1],\"showgrid\":true},\"legend\":{\"tracegroupgap\":0},\"title\":{\"text\":\"Time series of flood in the area\"},\"plot_bgcolor\":\"white\",\"height\":400,\"width\":800},                        {\"responsive\": true}                    ).then(function(){\n",
       "                            \n",
       "var gd = document.getElementById('57917b12-260c-4901-b062-1b7a9e8126bb');\n",
       "var x = new MutationObserver(function (mutations, observer) {{\n",
       "        var display = window.getComputedStyle(gd).display;\n",
       "        if (!display || display === 'none') {{\n",
       "            console.log([gd, 'removed!']);\n",
       "            Plotly.purge(gd);\n",
       "            observer.disconnect();\n",
       "        }}\n",
       "}});\n",
       "\n",
       "// Listen for the removal of the full notebook cells\n",
       "var notebookContainer = gd.closest('#notebook-container');\n",
       "if (notebookContainer) {{\n",
       "    x.observe(notebookContainer, {childList: true});\n",
       "}}\n",
       "\n",
       "// Listen for the clearing of the current output cell\n",
       "var outputEl = gd.closest('.output');\n",
       "if (outputEl) {{\n",
       "    x.observe(outputEl, {childList: true});\n",
       "}}\n",
       "\n",
       "                        })                };                });            </script>        </div>"
      ]
     },
     "metadata": {},
     "output_type": "display_data"
    }
   ],
   "source": [
    "fig = px.line(df.groupby('date').mean(), y='flood', title='Time series of flood in the area')\n",
    "fig.update_layout(xaxis_title='Date', yaxis_title='Flood (1) / Not-Flood (0)', plot_bgcolor='white', height=400, width=800)\n",
    "fig.update_yaxes(range=[0, 1], showgrid=True)\n",
    "fig.show()"
   ]
  },
  {
   "cell_type": "markdown",
   "id": "2ad89d3f",
   "metadata": {},
   "source": [
    "### Applying AWD"
   ]
  },
  {
   "cell_type": "code",
   "execution_count": 481,
   "id": "298fc372",
   "metadata": {},
   "outputs": [
    {
     "data": {
      "image/png": "[encoded data removed]",
      "text/plain": [
       "<Figure size 1000x300 with 1 Axes>"
      ]
     },
     "metadata": {},
     "output_type": "display_data"
    }
   ],
   "source": [
    "date_range = pd.date_range(start=start_date, end=end_date, freq='D')\n",
    "\n",
    "infil_rate = (7 +8)/3 # infiltration rate inch/day\n",
    "\n",
    "# say that water level at -8 inch is the benchmark\n",
    "water_level = []\n",
    "for i in range(0, len(date_range), 4):\n",
    "    flood_lvl = 7 + 8\n",
    "    interm1 = (7+8) - infil_rate\n",
    "    interm2 = interm1 - infil_rate\n",
    "    dry = 0\n",
    "    \n",
    "    water_level.append(flood_lvl)\n",
    "    water_level.append(interm1)\n",
    "    water_level.append(interm2)\n",
    "    water_level.append(dry)\n",
    "\n",
    "water_level = [level - 8 for level in water_level] # getting everything to ground level reference\n",
    "\n",
    "# Make sure that the length of the water_level list is the same as the length of the date_range list\n",
    "if len(date_range) < len(water_level):\n",
    "    water_level = water_level[:len(date_range)]\n",
    "elif len(date_range) > len(water_level):\n",
    "    water_level += [water_level[-1]] * (len(date_range) - len(water_level))\n",
    "\n",
    "water_level = pd.Series(data=water_level, index=date_range)\n",
    "    \n",
    "\n",
    "df_awd = pd.DataFrame({'date': date_range, 'water_level': water_level})\n",
    "df_awd['date'] = pd.to_datetime(df_awd['date'])\n",
    "df_awd = df_awd.set_index('date')\n",
    "\n",
    "\n",
    "df_awd = pd.DataFrame({'date': date_range, 'water_level': water_level})\n",
    "\n",
    "plt.figure(figsize = (10,3))\n",
    "plt.plot(df_awd['date'], df_awd['water_level'])\n",
    "plt.xlabel('Date')\n",
    "plt.ylabel('Water Level')\n",
    "plt.title('Water Level in Rice Paddy')\n",
    "plt.show()\n"
   ]
  },
  {
   "cell_type": "markdown",
   "id": "60645d5c",
   "metadata": {},
   "source": [
    "### Combined plot of AWD and flooding"
   ]
  },
  {
   "cell_type": "code",
   "execution_count": 482,
   "id": "978f6d72",
   "metadata": {},
   "outputs": [
    {
     "data": {
      "image/png": "[encoded data removed]",
      "text/plain": [
       "<Figure size 800x300 with 2 Axes>"
      ]
     },
     "metadata": {},
     "output_type": "display_data"
    }
   ],
   "source": [
    "flood = df.groupby('date').mean()['flood']\n",
    "\n",
    "# Code for the second time series\n",
    "water_level = df_awd['water_level']\n",
    "\n",
    "# Plot both time series in one figure\n",
    "fig, ax1 = plt.subplots(figsize=(8, 3))\n",
    "\n",
    "color = 'blue'\n",
    "ax1.set_xlabel('Date')\n",
    "ax1.set_ylabel('Flood (1) / Not-Flood (0)', color=color)\n",
    "ax1.plot(flood.index, flood, color=color, linewidth=0.8)\n",
    "ax1.scatter(flood.index, flood, s=10)\n",
    "ax1.tick_params(axis='y', labelcolor=color)\n",
    "ax1.grid(True, which='both', axis='both')\n",
    "\n",
    "ax2 = ax1.twinx()  # instantiate a second axes that shares the same x-axis\n",
    "\n",
    "color = 'red'\n",
    "ax2.set_ylabel('Water Level', color=color)  # we already handled the x-label with ax1\n",
    "ax2.plot(water_level.index, water_level, color=color, linewidth=0.8)\n",
    "ax2.tick_params(axis='y', labelcolor=color)\n",
    "ax2.set_ylim([-10, 30])\n",
    "\n",
    "fig.tight_layout()  # otherwise the right y-label is slightly clipped\n",
    "plt.title('Water Level and Flood in Rice Paddy')\n",
    "plt.show()"
   ]
  },
  {
   "cell_type": "markdown",
   "id": "1aacbf4c",
   "metadata": {},
   "source": [
    "## AWD model updated based on Sentilel measurements"
   ]
  },
  {
   "cell_type": "code",
   "execution_count": 483,
   "id": "f3bde916",
   "metadata": {},
   "outputs": [],
   "source": [
    "# Given list of days when water is applied. Assume water application day is given every 4 days\n",
    "water_application_days = []\n",
    "for i in range(0, len(date_range), 4):\n",
    "    water_application_days.append(i)\n",
    "\n",
    "\n",
    "# Initialize the water level list\n",
    "water_level = []\n",
    "\n",
    "# Loop through each day in the date range\n",
    "for i, date in enumerate(date_range):\n",
    "    if i in water_application_days:\n",
    "        flood_lvl = 15\n",
    "        water_level.append(flood_lvl)\n",
    "    else:\n",
    "        water_level.append(water_level[-1] - infil_rate)\n",
    "        \n",
    "\n",
    "# Convert the water_level list to a pandas Series with the date range as the index\n",
    "water_level = pd.Series(data=water_level, index=date_range)\n",
    "\n",
    "df_awd_mod = pd.DataFrame({'date': date_range, 'water_level': water_level})\n",
    "df_awd_mod['date'] = pd.to_datetime(df_awd_mod['date'])\n",
    "df_awd_mod = df_awd_mod.set_index('date')\n",
    "\n",
    "\n",
    "df_awd_mod = pd.DataFrame({'date': date_range, 'water_level': water_level})\n",
    "\n",
    "df_awd_mod['water_level'] = df_awd_mod['water_level'] - 8\n"
   ]
  },
  {
   "cell_type": "code",
   "execution_count": 484,
   "id": "0e0e3f95",
   "metadata": {},
   "outputs": [],
   "source": [
    "flood_mod = pd.DataFrame(flood)\n",
    "flood_mod['date'] = pd.to_datetime(flood_mod.index)\n",
    "flood_mod.flood = flood_mod.flood* 24 # assuming flood value 1 is equivalent to 12 inch depth\n",
    "flood_mod = flood_mod.reset_index(drop=True)"
   ]
  },
  {
   "cell_type": "code",
   "execution_count": 485,
   "id": "87142f5e",
   "metadata": {},
   "outputs": [
    {
     "data": {
      "text/html": [
       "<div>\n",
       "<style scoped>\n",
       "    .dataframe tbody tr th:only-of-type {\n",
       "        vertical-align: middle;\n",
       "    }\n",
       "\n",
       "    .dataframe tbody tr th {\n",
       "        vertical-align: top;\n",
       "    }\n",
       "\n",
       "    .dataframe thead th {\n",
       "        text-align: right;\n",
       "    }\n",
       "</style>\n",
       "<table border=\"1\" class=\"dataframe\">\n",
       "  <thead>\n",
       "    <tr style=\"text-align: right;\">\n",
       "      <th></th>\n",
       "      <th>date</th>\n",
       "      <th>water_level</th>\n",
       "      <th>flood</th>\n",
       "    </tr>\n",
       "  </thead>\n",
       "  <tbody>\n",
       "    <tr>\n",
       "      <th>87</th>\n",
       "      <td>2023-03-29</td>\n",
       "      <td>-8.0</td>\n",
       "      <td>NaN</td>\n",
       "    </tr>\n",
       "    <tr>\n",
       "      <th>88</th>\n",
       "      <td>2023-03-30</td>\n",
       "      <td>7.0</td>\n",
       "      <td>NaN</td>\n",
       "    </tr>\n",
       "  </tbody>\n",
       "</table>\n",
       "</div>"
      ],
      "text/plain": [
       "         date  water_level  flood\n",
       "87 2023-03-29         -8.0    NaN\n",
       "88 2023-03-30          7.0    NaN"
      ]
     },
     "execution_count": 485,
     "metadata": {},
     "output_type": "execute_result"
    }
   ],
   "source": [
    "df_awd_mod = df_awd_mod.merge(flood_mod, on='date', how='left')\n",
    "df_awd_mod.tail(2)"
   ]
  },
  {
   "cell_type": "code",
   "execution_count": 486,
   "id": "159f108a",
   "metadata": {},
   "outputs": [],
   "source": [
    "for i in range(len(df_awd_mod)):\n",
    "    if pd.notnull(df_awd_mod.loc[i, 'flood']):\n",
    "        diff = df_awd_mod.loc[i, 'flood'] - df_awd_mod.loc[i, 'water_level']\n",
    "        for j in range(i+1, len(df_awd_mod)):\n",
    "            if pd.notnull(df_awd_mod.loc[j, 'flood']):\n",
    "                break\n",
    "            else:\n",
    "                df_awd_mod.loc[j, 'water_level'] += diff\n",
    "\n",
    "df_awd_mod['water_level'] = np.where(df_awd_mod['flood'].notnull(), df_awd_mod['flood'], df_awd_mod['water_level'])\n",
    "df_awd_mod = df_awd_mod.drop(['flood'], axis=1)"
   ]
  },
  {
   "cell_type": "code",
   "execution_count": 487,
   "id": "f8bdf69a",
   "metadata": {},
   "outputs": [
    {
     "data": {
      "text/html": [
       "<div>\n",
       "<style scoped>\n",
       "    .dataframe tbody tr th:only-of-type {\n",
       "        vertical-align: middle;\n",
       "    }\n",
       "\n",
       "    .dataframe tbody tr th {\n",
       "        vertical-align: top;\n",
       "    }\n",
       "\n",
       "    .dataframe thead th {\n",
       "        text-align: right;\n",
       "    }\n",
       "</style>\n",
       "<table border=\"1\" class=\"dataframe\">\n",
       "  <thead>\n",
       "    <tr style=\"text-align: right;\">\n",
       "      <th></th>\n",
       "      <th>date</th>\n",
       "      <th>water_level</th>\n",
       "    </tr>\n",
       "  </thead>\n",
       "  <tbody>\n",
       "    <tr>\n",
       "      <th>87</th>\n",
       "      <td>2023-03-29</td>\n",
       "      <td>3.857143</td>\n",
       "    </tr>\n",
       "    <tr>\n",
       "      <th>88</th>\n",
       "      <td>2023-03-30</td>\n",
       "      <td>18.857143</td>\n",
       "    </tr>\n",
       "  </tbody>\n",
       "</table>\n",
       "</div>"
      ],
      "text/plain": [
       "         date  water_level\n",
       "87 2023-03-29     3.857143\n",
       "88 2023-03-30    18.857143"
      ]
     },
     "execution_count": 487,
     "metadata": {},
     "output_type": "execute_result"
    }
   ],
   "source": [
    "df_awd_mod.tail(2)"
   ]
  },
  {
   "cell_type": "code",
   "execution_count": 488,
   "id": "0369b8c8",
   "metadata": {},
   "outputs": [
    {
     "data": {
      "image/png": "[encoded data removed]",
      "text/plain": [
       "<Figure size 1000x300 with 1 Axes>"
      ]
     },
     "metadata": {},
     "output_type": "display_data"
    }
   ],
   "source": [
    "plt.figure(figsize = (10,3))\n",
    "plt.plot(df_awd_mod['date'], df_awd_mod['water_level'])\n",
    "plt.xlabel('Date')\n",
    "plt.ylabel('Water Level')\n",
    "plt.title('Water Level in Rice Paddy')\n",
    "plt.show()"
   ]
  },
  {
   "cell_type": "code",
   "execution_count": 489,
   "id": "c1eb633f",
   "metadata": {},
   "outputs": [
    {
     "data": {
      "image/png": "[encoded data removed]",
      "text/plain": [
       "<Figure size 800x300 with 2 Axes>"
      ]
     },
     "metadata": {},
     "output_type": "display_data"
    }
   ],
   "source": [
    "# Plot both time series in one figure\n",
    "fig, ax1 = plt.subplots(figsize=(8, 3))\n",
    "\n",
    "color = 'blue'\n",
    "ax1.set_xlabel('Date')\n",
    "ax1.set_ylabel('Flood (1) / Not-Flood (0)', color=color)\n",
    "ax1.plot(flood.index, flood, color=color, linewidth=0.8)\n",
    "ax1.scatter(flood.index, flood, s=10)\n",
    "ax1.tick_params(axis='y', labelcolor=color)\n",
    "ax1.grid(True, which='both', axis='both')\n",
    "\n",
    "ax2 = ax1.twinx()  # instantiate a second axes that shares the same x-axis\n",
    "\n",
    "color = 'red'\n",
    "ax2.set_ylabel('Water Level', color=color)  # we already handled the x-label with ax1\n",
    "ax2.plot(df_awd_mod.date, df_awd_mod.water_level, color=color, linewidth=0.8)\n",
    "ax2.tick_params(axis='y', labelcolor=color)\n",
    "ax2.set_ylim([-10, 30])\n",
    "\n",
    "fig.tight_layout()  # otherwise the right y-label is slightly clipped\n",
    "plt.title('Water Level and Flood in Rice Paddy')\n",
    "plt.show()"
   ]
  },
  {
   "cell_type": "code",
   "execution_count": null,
   "id": "751c0911",
   "metadata": {},
   "outputs": [],
   "source": []
  },
  {
   "cell_type": "markdown",
   "id": "be67ffda",
   "metadata": {},
   "source": [
    "### Note:\n",
    "\n",
    "Data needed:\n",
    "- Water level after irrigation and before irrigation at the site. This is needed to train the AWD model\n",
    "- Infiltration rate need to be estimated from soil profile or data on infiltration/day\n",
    "\n",
    "\n",
    "Uncertainty:\n",
    "- The model has to take into account precipitation and evapotranspiration\n",
    "    - There is seasonal differences in evapotranspiration\n",
    "    - If precipitation occurs during AWD, it is important to know if precipitation happened and would be great to train the model to update model to take into account the precipitation effect"
   ]
  },
  {
   "cell_type": "markdown",
   "id": "5a2423a0",
   "metadata": {},
   "source": [
    "To estimate soil moisture from Sentinel-1 data, you can use a simple approach called the Change Detection Method. This method calculates the difference in backscatter values between two images taken on different dates. The change in backscatter can be related to changes in soil moisture. "
   ]
  },
  {
   "cell_type": "code",
   "execution_count": 17,
   "id": "e7d1abd8",
   "metadata": {},
   "outputs": [
    {
     "data": {
      "application/vnd.jupyter.widget-view+json": {
       "model_id": "571a2b40b7b54e43b19cee9e01fb6d48",
       "version_major": 2,
       "version_minor": 0
      },
      "text/plain": [
       "Map(center=[23.362844116577374, 89.00210579267959], controls=(WidgetControl(options=['position', 'transparent_…"
      ]
     },
     "metadata": {},
     "output_type": "display_data"
    }
   ],
   "source": [
    "# Define your area of interest (AOI)\n",
    "geometry = ee.Geometry.Polygon([\n",
    "    [89.00239529326589, 23.363047351642273],\n",
    "    [89.00177838519247, 23.363022728677635],\n",
    "    [89.001874944717, 23.362623836013544],\n",
    "    [89.00238456442983, 23.362658308266433],\n",
    "    [89.00239529326589, 23.363047351642273]\n",
    "])\n",
    "\n",
    "# Information of geometry to zoom\n",
    "centroid = geometry.centroid().getInfo()['coordinates']\n",
    "center = [centroid[1], centroid[0]]\n",
    "\n",
    "# Create a map centered on the polygon geometry\n",
    "Map = geemap.Map(center=center, zoom=16)\n",
    "Map.add_basemap('HYBRID')\n",
    "Map.add_ee_layer(geometry, {'color': 'red'}, 'Polygon geometry')\n",
    "\n",
    "# Define the date ranges to compare\n",
    "date1_start = '2022-01-01'\n",
    "date1_end = '2022-01-15'\n",
    "date2_start = '2022-01-16'\n",
    "date2_end = '2022-01-31'\n",
    "\n",
    "# Filter the Sentinel-1 VV dataset to the geometry and date range\n",
    "sentinel_1 = ee.ImageCollection('COPERNICUS/S1_GRD') \\\n",
    "    .filterBounds(geometry) \\\n",
    "    .filter(ee.Filter.listContains('transmitterReceiverPolarisation', 'VV')) \\\n",
    "    .filter(ee.Filter.eq('instrumentMode', 'IW'))\n",
    "\n",
    "# Get the median image for both date ranges\n",
    "image1 = sentinel_1.filterDate(date1_start, date1_end).median()\n",
    "image2 = sentinel_1.filterDate(date2_start, date2_end).median()\n",
    "\n",
    "# Calculate the change in backscatter values\n",
    "change = image2.select('VV').subtract(image1.select('VV'))\n",
    "\n",
    "# Display the change in backscatter values\n",
    "Map.add_ee_layer(change, {'min': -5, 'max': 5, 'palette': ['blue', 'white', 'red']}, 'Change in Backscatter')\n",
    "\n",
    "# Display the map\n",
    "Map"
   ]
  },
  {
   "cell_type": "code",
   "execution_count": null,
   "id": "0d9a9797",
   "metadata": {},
   "outputs": [],
   "source": []
  }
 ],
 "metadata": {
  "kernelspec": {
   "display_name": "Python 3 (ipykernel)",
   "language": "python",
   "name": "python3"
  },
  "language_info": {
   "codemirror_mode": {
    "name": "ipython",
    "version": 3
   },
   "file_extension": ".py",
   "mimetype": "text/x-python",
   "name": "python",
   "nbconvert_exporter": "python",
   "pygments_lexer": "ipython3",
   "version": "3.9.13"
  }
 },
 "nbformat": 4,
 "nbformat_minor": 5
}
